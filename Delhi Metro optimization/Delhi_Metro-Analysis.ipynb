{
 "cells": [
  {
   "cell_type": "code",
   "execution_count": 1,
   "id": "4e644284",
   "metadata": {},
   "outputs": [],
   "source": [
    "import pandas as pd\n",
    "import numpy as np\n",
    "import matplotlib.pyplot as plt\n",
    "import seaborn as sns\n",
    "import datetime as dt"
   ]
  },
  {
   "cell_type": "raw",
   "id": "6612972b",
   "metadata": {},
   "source": [
    "ProjectLink = 'https://statso.io/delhi-metro-operations-case-study/'"
   ]
  },
  {
   "cell_type": "markdown",
   "id": "9a3739a7",
   "metadata": {},
   "source": [
    "## Problem Statement\n",
    "For the task of Metro Operations Optimization, we will aim to identify the key areas where adjustments in train frequencies could significantly improve the service levels, reduce wait times, and alleviate overcrowding."
   ]
  },
  {
   "cell_type": "raw",
   "id": "3d054e8c",
   "metadata": {},
   "source": [
    "Agency:    Information about the Delhi Metro Rail Corporation, including name, URL, and contact details.\n",
    "Calendar:  The DataFrame represents a schedule of metro services with details on the days each service runs and the date range              for those schedules.\n",
    "Routes:    Details of metro routes, including short and long names, type of route, and descriptions.\n",
    "Shapes:    Geographical coordinates of routes, providing the precise paths taken by the metro lines.\n",
    "StopTimes: Timetables for each trip indicating arrival and departure times at specific stops.\n",
    "Stops:     Locations of metro stops, including latitude and longitude coordinates.\n",
    "Trips:     Information linking trips to routes, including details like trip identifiers and associated route IDs."
   ]
  },
  {
   "cell_type": "code",
   "execution_count": null,
   "id": "7c8b6866",
   "metadata": {},
   "outputs": [],
   "source": []
  },
  {
   "cell_type": "code",
   "execution_count": 2,
   "id": "85481677",
   "metadata": {
    "scrolled": true
   },
   "outputs": [],
   "source": [
    "# load all the data files\n",
    "agency = pd.read_csv('agency.txt')\n",
    "calendar = pd.read_csv('calendar.txt')\n",
    "routes = pd.read_csv('routes.txt')\n",
    "shapes = pd.read_csv('shapes.txt')\n",
    "stop_times = pd.read_csv('stop_times.txt')\n",
    "stops = pd.read_csv('stops.txt')\n",
    "trips = pd.read_csv('trips.txt')\n",
    "\n",
    "# showing the first few rows and the structure of each dataframe\n",
    "data_overviews = {\n",
    "    \"agency\": agency.head(),\n",
    "    \"calendar\": calendar.head(),\n",
    "    \"routes\": routes.head(),\n",
    "    \"shapes\": shapes.head(),\n",
    "    \"stop_times\": stop_times.head(),\n",
    "    \"stops\": stops.head(),\n",
    "    \"trips\": trips.head()\n",
    "}\n"
   ]
  },
  {
   "cell_type": "code",
   "execution_count": null,
   "id": "f714fbdf",
   "metadata": {},
   "outputs": [],
   "source": []
  },
  {
   "cell_type": "markdown",
   "id": "6645801f",
   "metadata": {},
   "source": [
    "# Data Cleaning "
   ]
  },
  {
   "cell_type": "code",
   "execution_count": 3,
   "id": "b3cce4c6",
   "metadata": {},
   "outputs": [],
   "source": [
    "# Removal of Unwanted Columns from every dataframe"
   ]
  },
  {
   "cell_type": "code",
   "execution_count": 4,
   "id": "20baeea1",
   "metadata": {},
   "outputs": [
    {
     "data": {
      "text/html": [
       "<div>\n",
       "<style scoped>\n",
       "    .dataframe tbody tr th:only-of-type {\n",
       "        vertical-align: middle;\n",
       "    }\n",
       "\n",
       "    .dataframe tbody tr th {\n",
       "        vertical-align: top;\n",
       "    }\n",
       "\n",
       "    .dataframe thead th {\n",
       "        text-align: right;\n",
       "    }\n",
       "</style>\n",
       "<table border=\"1\" class=\"dataframe\">\n",
       "  <thead>\n",
       "    <tr style=\"text-align: right;\">\n",
       "      <th></th>\n",
       "      <th>agency_id</th>\n",
       "      <th>agency_name</th>\n",
       "      <th>agency_url</th>\n",
       "      <th>agency_timezone</th>\n",
       "      <th>agency_lang</th>\n",
       "      <th>agency_phone</th>\n",
       "      <th>agency_fare_url</th>\n",
       "      <th>agency_email</th>\n",
       "    </tr>\n",
       "  </thead>\n",
       "  <tbody>\n",
       "    <tr>\n",
       "      <th>0</th>\n",
       "      <td>DMRC</td>\n",
       "      <td>Delhi Metro Rail Corporation</td>\n",
       "      <td>http://www.delhimetrorail.com/</td>\n",
       "      <td>Asia/Kolkata</td>\n",
       "      <td>NaN</td>\n",
       "      <td>NaN</td>\n",
       "      <td>NaN</td>\n",
       "      <td>NaN</td>\n",
       "    </tr>\n",
       "  </tbody>\n",
       "</table>\n",
       "</div>"
      ],
      "text/plain": [
       "  agency_id                   agency_name                      agency_url  \\\n",
       "0      DMRC  Delhi Metro Rail Corporation  http://www.delhimetrorail.com/   \n",
       "\n",
       "  agency_timezone  agency_lang  agency_phone  agency_fare_url  agency_email  \n",
       "0    Asia/Kolkata          NaN           NaN              NaN           NaN  "
      ]
     },
     "execution_count": 4,
     "metadata": {},
     "output_type": "execute_result"
    }
   ],
   "source": [
    "agency"
   ]
  },
  {
   "cell_type": "code",
   "execution_count": 5,
   "id": "b95b36f0",
   "metadata": {},
   "outputs": [],
   "source": [
    "agency.drop(columns=['agency_lang','agency_fare_url','agency_email','agency_phone'],inplace=True)"
   ]
  },
  {
   "cell_type": "code",
   "execution_count": 6,
   "id": "96f6d8b1",
   "metadata": {},
   "outputs": [
    {
     "data": {
      "text/html": [
       "<div>\n",
       "<style scoped>\n",
       "    .dataframe tbody tr th:only-of-type {\n",
       "        vertical-align: middle;\n",
       "    }\n",
       "\n",
       "    .dataframe tbody tr th {\n",
       "        vertical-align: top;\n",
       "    }\n",
       "\n",
       "    .dataframe thead th {\n",
       "        text-align: right;\n",
       "    }\n",
       "</style>\n",
       "<table border=\"1\" class=\"dataframe\">\n",
       "  <thead>\n",
       "    <tr style=\"text-align: right;\">\n",
       "      <th></th>\n",
       "      <th>agency_id</th>\n",
       "      <th>agency_name</th>\n",
       "      <th>agency_url</th>\n",
       "      <th>agency_timezone</th>\n",
       "    </tr>\n",
       "  </thead>\n",
       "  <tbody>\n",
       "    <tr>\n",
       "      <th>0</th>\n",
       "      <td>DMRC</td>\n",
       "      <td>Delhi Metro Rail Corporation</td>\n",
       "      <td>http://www.delhimetrorail.com/</td>\n",
       "      <td>Asia/Kolkata</td>\n",
       "    </tr>\n",
       "  </tbody>\n",
       "</table>\n",
       "</div>"
      ],
      "text/plain": [
       "  agency_id                   agency_name                      agency_url  \\\n",
       "0      DMRC  Delhi Metro Rail Corporation  http://www.delhimetrorail.com/   \n",
       "\n",
       "  agency_timezone  \n",
       "0    Asia/Kolkata  "
      ]
     },
     "execution_count": 6,
     "metadata": {},
     "output_type": "execute_result"
    }
   ],
   "source": [
    "agency"
   ]
  },
  {
   "cell_type": "code",
   "execution_count": null,
   "id": "046f588f",
   "metadata": {},
   "outputs": [],
   "source": []
  },
  {
   "cell_type": "code",
   "execution_count": 7,
   "id": "acd4529d",
   "metadata": {},
   "outputs": [
    {
     "data": {
      "text/html": [
       "<div>\n",
       "<style scoped>\n",
       "    .dataframe tbody tr th:only-of-type {\n",
       "        vertical-align: middle;\n",
       "    }\n",
       "\n",
       "    .dataframe tbody tr th {\n",
       "        vertical-align: top;\n",
       "    }\n",
       "\n",
       "    .dataframe thead th {\n",
       "        text-align: right;\n",
       "    }\n",
       "</style>\n",
       "<table border=\"1\" class=\"dataframe\">\n",
       "  <thead>\n",
       "    <tr style=\"text-align: right;\">\n",
       "      <th></th>\n",
       "      <th>route_id</th>\n",
       "      <th>agency_id</th>\n",
       "      <th>route_short_name</th>\n",
       "      <th>route_long_name</th>\n",
       "      <th>route_desc</th>\n",
       "      <th>route_type</th>\n",
       "      <th>route_url</th>\n",
       "      <th>route_color</th>\n",
       "      <th>route_text_color</th>\n",
       "      <th>route_sort_order</th>\n",
       "      <th>continuous_pickup</th>\n",
       "      <th>continuous_drop_off</th>\n",
       "    </tr>\n",
       "  </thead>\n",
       "  <tbody>\n",
       "    <tr>\n",
       "      <th>0</th>\n",
       "      <td>33</td>\n",
       "      <td>NaN</td>\n",
       "      <td>R_SP_R</td>\n",
       "      <td>RAPID_Phase 3 (Rapid Metro) to Sector 55-56 (R...</td>\n",
       "      <td>NaN</td>\n",
       "      <td>1</td>\n",
       "      <td>NaN</td>\n",
       "      <td>NaN</td>\n",
       "      <td>NaN</td>\n",
       "      <td>NaN</td>\n",
       "      <td>NaN</td>\n",
       "      <td>NaN</td>\n",
       "    </tr>\n",
       "  </tbody>\n",
       "</table>\n",
       "</div>"
      ],
      "text/plain": [
       "   route_id  agency_id route_short_name  \\\n",
       "0        33        NaN           R_SP_R   \n",
       "\n",
       "                                     route_long_name  route_desc  route_type  \\\n",
       "0  RAPID_Phase 3 (Rapid Metro) to Sector 55-56 (R...         NaN           1   \n",
       "\n",
       "   route_url  route_color  route_text_color  route_sort_order  \\\n",
       "0        NaN          NaN               NaN               NaN   \n",
       "\n",
       "   continuous_pickup  continuous_drop_off  \n",
       "0                NaN                  NaN  "
      ]
     },
     "execution_count": 7,
     "metadata": {},
     "output_type": "execute_result"
    }
   ],
   "source": [
    "routes.head(1)"
   ]
  },
  {
   "cell_type": "code",
   "execution_count": 8,
   "id": "db68b9a7",
   "metadata": {},
   "outputs": [],
   "source": [
    "routes.drop(columns=['agency_id','route_desc','route_url','route_color','route_text_color','route_sort_order','continuous_pickup','continuous_drop_off'],inplace=True)"
   ]
  },
  {
   "cell_type": "code",
   "execution_count": 9,
   "id": "a6ba46e6",
   "metadata": {},
   "outputs": [
    {
     "data": {
      "text/html": [
       "<div>\n",
       "<style scoped>\n",
       "    .dataframe tbody tr th:only-of-type {\n",
       "        vertical-align: middle;\n",
       "    }\n",
       "\n",
       "    .dataframe tbody tr th {\n",
       "        vertical-align: top;\n",
       "    }\n",
       "\n",
       "    .dataframe thead th {\n",
       "        text-align: right;\n",
       "    }\n",
       "</style>\n",
       "<table border=\"1\" class=\"dataframe\">\n",
       "  <thead>\n",
       "    <tr style=\"text-align: right;\">\n",
       "      <th></th>\n",
       "      <th>route_id</th>\n",
       "      <th>route_short_name</th>\n",
       "      <th>route_long_name</th>\n",
       "      <th>route_type</th>\n",
       "    </tr>\n",
       "  </thead>\n",
       "  <tbody>\n",
       "    <tr>\n",
       "      <th>0</th>\n",
       "      <td>33</td>\n",
       "      <td>R_SP_R</td>\n",
       "      <td>RAPID_Phase 3 (Rapid Metro) to Sector 55-56 (R...</td>\n",
       "      <td>1</td>\n",
       "    </tr>\n",
       "  </tbody>\n",
       "</table>\n",
       "</div>"
      ],
      "text/plain": [
       "   route_id route_short_name  \\\n",
       "0        33           R_SP_R   \n",
       "\n",
       "                                     route_long_name  route_type  \n",
       "0  RAPID_Phase 3 (Rapid Metro) to Sector 55-56 (R...           1  "
      ]
     },
     "execution_count": 9,
     "metadata": {},
     "output_type": "execute_result"
    }
   ],
   "source": [
    "routes.head(1)"
   ]
  },
  {
   "cell_type": "code",
   "execution_count": null,
   "id": "3c9b3daf",
   "metadata": {},
   "outputs": [],
   "source": []
  },
  {
   "cell_type": "code",
   "execution_count": 10,
   "id": "f6b850de",
   "metadata": {},
   "outputs": [
    {
     "data": {
      "text/html": [
       "<div>\n",
       "<style scoped>\n",
       "    .dataframe tbody tr th:only-of-type {\n",
       "        vertical-align: middle;\n",
       "    }\n",
       "\n",
       "    .dataframe tbody tr th {\n",
       "        vertical-align: top;\n",
       "    }\n",
       "\n",
       "    .dataframe thead th {\n",
       "        text-align: right;\n",
       "    }\n",
       "</style>\n",
       "<table border=\"1\" class=\"dataframe\">\n",
       "  <thead>\n",
       "    <tr style=\"text-align: right;\">\n",
       "      <th></th>\n",
       "      <th>trip_id</th>\n",
       "      <th>arrival_time</th>\n",
       "      <th>departure_time</th>\n",
       "      <th>stop_id</th>\n",
       "      <th>stop_sequence</th>\n",
       "      <th>stop_headsign</th>\n",
       "      <th>pickup_type</th>\n",
       "      <th>drop_off_type</th>\n",
       "      <th>shape_dist_traveled</th>\n",
       "      <th>timepoint</th>\n",
       "      <th>continuous_pickup</th>\n",
       "      <th>continuous_drop_off</th>\n",
       "    </tr>\n",
       "  </thead>\n",
       "  <tbody>\n",
       "    <tr>\n",
       "      <th>0</th>\n",
       "      <td>0</td>\n",
       "      <td>05:28:08</td>\n",
       "      <td>05:28:28</td>\n",
       "      <td>21</td>\n",
       "      <td>0</td>\n",
       "      <td>NaN</td>\n",
       "      <td>0</td>\n",
       "      <td>0</td>\n",
       "      <td>0.0</td>\n",
       "      <td>1</td>\n",
       "      <td>NaN</td>\n",
       "      <td>NaN</td>\n",
       "    </tr>\n",
       "  </tbody>\n",
       "</table>\n",
       "</div>"
      ],
      "text/plain": [
       "   trip_id arrival_time departure_time  stop_id  stop_sequence  stop_headsign  \\\n",
       "0        0     05:28:08       05:28:28       21              0            NaN   \n",
       "\n",
       "   pickup_type  drop_off_type  shape_dist_traveled  timepoint  \\\n",
       "0            0              0                  0.0          1   \n",
       "\n",
       "   continuous_pickup  continuous_drop_off  \n",
       "0                NaN                  NaN  "
      ]
     },
     "execution_count": 10,
     "metadata": {},
     "output_type": "execute_result"
    }
   ],
   "source": [
    "stop_times.head(1)"
   ]
  },
  {
   "cell_type": "code",
   "execution_count": 11,
   "id": "bbfef547",
   "metadata": {},
   "outputs": [],
   "source": [
    "stop_times.drop(columns=['stop_headsign','continuous_pickup','continuous_drop_off'],inplace=True)"
   ]
  },
  {
   "cell_type": "code",
   "execution_count": 12,
   "id": "92d6c4ea",
   "metadata": {},
   "outputs": [
    {
     "data": {
      "text/html": [
       "<div>\n",
       "<style scoped>\n",
       "    .dataframe tbody tr th:only-of-type {\n",
       "        vertical-align: middle;\n",
       "    }\n",
       "\n",
       "    .dataframe tbody tr th {\n",
       "        vertical-align: top;\n",
       "    }\n",
       "\n",
       "    .dataframe thead th {\n",
       "        text-align: right;\n",
       "    }\n",
       "</style>\n",
       "<table border=\"1\" class=\"dataframe\">\n",
       "  <thead>\n",
       "    <tr style=\"text-align: right;\">\n",
       "      <th></th>\n",
       "      <th>trip_id</th>\n",
       "      <th>arrival_time</th>\n",
       "      <th>departure_time</th>\n",
       "      <th>stop_id</th>\n",
       "      <th>stop_sequence</th>\n",
       "      <th>pickup_type</th>\n",
       "      <th>drop_off_type</th>\n",
       "      <th>shape_dist_traveled</th>\n",
       "      <th>timepoint</th>\n",
       "    </tr>\n",
       "  </thead>\n",
       "  <tbody>\n",
       "    <tr>\n",
       "      <th>0</th>\n",
       "      <td>0</td>\n",
       "      <td>05:28:08</td>\n",
       "      <td>05:28:28</td>\n",
       "      <td>21</td>\n",
       "      <td>0</td>\n",
       "      <td>0</td>\n",
       "      <td>0</td>\n",
       "      <td>0.0</td>\n",
       "      <td>1</td>\n",
       "    </tr>\n",
       "  </tbody>\n",
       "</table>\n",
       "</div>"
      ],
      "text/plain": [
       "   trip_id arrival_time departure_time  stop_id  stop_sequence  pickup_type  \\\n",
       "0        0     05:28:08       05:28:28       21              0            0   \n",
       "\n",
       "   drop_off_type  shape_dist_traveled  timepoint  \n",
       "0              0                  0.0          1  "
      ]
     },
     "execution_count": 12,
     "metadata": {},
     "output_type": "execute_result"
    }
   ],
   "source": [
    "stop_times.head(1)"
   ]
  },
  {
   "cell_type": "code",
   "execution_count": null,
   "id": "6044a6c1",
   "metadata": {},
   "outputs": [],
   "source": []
  },
  {
   "cell_type": "code",
   "execution_count": 13,
   "id": "51138afb",
   "metadata": {},
   "outputs": [
    {
     "data": {
      "text/html": [
       "<div>\n",
       "<style scoped>\n",
       "    .dataframe tbody tr th:only-of-type {\n",
       "        vertical-align: middle;\n",
       "    }\n",
       "\n",
       "    .dataframe tbody tr th {\n",
       "        vertical-align: top;\n",
       "    }\n",
       "\n",
       "    .dataframe thead th {\n",
       "        text-align: right;\n",
       "    }\n",
       "</style>\n",
       "<table border=\"1\" class=\"dataframe\">\n",
       "  <thead>\n",
       "    <tr style=\"text-align: right;\">\n",
       "      <th></th>\n",
       "      <th>stop_id</th>\n",
       "      <th>stop_code</th>\n",
       "      <th>stop_name</th>\n",
       "      <th>stop_desc</th>\n",
       "      <th>stop_lat</th>\n",
       "      <th>stop_lon</th>\n",
       "    </tr>\n",
       "  </thead>\n",
       "  <tbody>\n",
       "    <tr>\n",
       "      <th>0</th>\n",
       "      <td>1</td>\n",
       "      <td>NaN</td>\n",
       "      <td>Dilshad Garden</td>\n",
       "      <td>NaN</td>\n",
       "      <td>28.675991</td>\n",
       "      <td>77.321495</td>\n",
       "    </tr>\n",
       "  </tbody>\n",
       "</table>\n",
       "</div>"
      ],
      "text/plain": [
       "   stop_id  stop_code       stop_name  stop_desc   stop_lat   stop_lon\n",
       "0        1        NaN  Dilshad Garden        NaN  28.675991  77.321495"
      ]
     },
     "execution_count": 13,
     "metadata": {},
     "output_type": "execute_result"
    }
   ],
   "source": [
    "stops.head(1)"
   ]
  },
  {
   "cell_type": "code",
   "execution_count": 14,
   "id": "9e9544f0",
   "metadata": {},
   "outputs": [],
   "source": [
    "stops.drop(columns=['stop_code','stop_desc'],inplace=True)"
   ]
  },
  {
   "cell_type": "code",
   "execution_count": 15,
   "id": "0ec92d54",
   "metadata": {},
   "outputs": [
    {
     "data": {
      "text/html": [
       "<div>\n",
       "<style scoped>\n",
       "    .dataframe tbody tr th:only-of-type {\n",
       "        vertical-align: middle;\n",
       "    }\n",
       "\n",
       "    .dataframe tbody tr th {\n",
       "        vertical-align: top;\n",
       "    }\n",
       "\n",
       "    .dataframe thead th {\n",
       "        text-align: right;\n",
       "    }\n",
       "</style>\n",
       "<table border=\"1\" class=\"dataframe\">\n",
       "  <thead>\n",
       "    <tr style=\"text-align: right;\">\n",
       "      <th></th>\n",
       "      <th>stop_id</th>\n",
       "      <th>stop_name</th>\n",
       "      <th>stop_lat</th>\n",
       "      <th>stop_lon</th>\n",
       "    </tr>\n",
       "  </thead>\n",
       "  <tbody>\n",
       "    <tr>\n",
       "      <th>0</th>\n",
       "      <td>1</td>\n",
       "      <td>Dilshad Garden</td>\n",
       "      <td>28.675991</td>\n",
       "      <td>77.321495</td>\n",
       "    </tr>\n",
       "  </tbody>\n",
       "</table>\n",
       "</div>"
      ],
      "text/plain": [
       "   stop_id       stop_name   stop_lat   stop_lon\n",
       "0        1  Dilshad Garden  28.675991  77.321495"
      ]
     },
     "execution_count": 15,
     "metadata": {},
     "output_type": "execute_result"
    }
   ],
   "source": [
    "stops.head(1)"
   ]
  },
  {
   "cell_type": "code",
   "execution_count": null,
   "id": "98623b81",
   "metadata": {},
   "outputs": [],
   "source": []
  },
  {
   "cell_type": "code",
   "execution_count": 16,
   "id": "840a73ba",
   "metadata": {},
   "outputs": [
    {
     "data": {
      "text/html": [
       "<div>\n",
       "<style scoped>\n",
       "    .dataframe tbody tr th:only-of-type {\n",
       "        vertical-align: middle;\n",
       "    }\n",
       "\n",
       "    .dataframe tbody tr th {\n",
       "        vertical-align: top;\n",
       "    }\n",
       "\n",
       "    .dataframe thead th {\n",
       "        text-align: right;\n",
       "    }\n",
       "</style>\n",
       "<table border=\"1\" class=\"dataframe\">\n",
       "  <thead>\n",
       "    <tr style=\"text-align: right;\">\n",
       "      <th></th>\n",
       "      <th>route_id</th>\n",
       "      <th>service_id</th>\n",
       "      <th>trip_id</th>\n",
       "      <th>trip_headsign</th>\n",
       "      <th>trip_short_name</th>\n",
       "      <th>direction_id</th>\n",
       "      <th>block_id</th>\n",
       "      <th>shape_id</th>\n",
       "      <th>wheelchair_accessible</th>\n",
       "      <th>bikes_allowed</th>\n",
       "    </tr>\n",
       "  </thead>\n",
       "  <tbody>\n",
       "    <tr>\n",
       "      <th>0</th>\n",
       "      <td>0</td>\n",
       "      <td>weekday</td>\n",
       "      <td>0</td>\n",
       "      <td>NaN</td>\n",
       "      <td>NaN</td>\n",
       "      <td>NaN</td>\n",
       "      <td>NaN</td>\n",
       "      <td>shp_1_30</td>\n",
       "      <td>0</td>\n",
       "      <td>0</td>\n",
       "    </tr>\n",
       "  </tbody>\n",
       "</table>\n",
       "</div>"
      ],
      "text/plain": [
       "   route_id service_id  trip_id  trip_headsign  trip_short_name  direction_id  \\\n",
       "0         0    weekday        0            NaN              NaN           NaN   \n",
       "\n",
       "   block_id  shape_id  wheelchair_accessible  bikes_allowed  \n",
       "0       NaN  shp_1_30                      0              0  "
      ]
     },
     "execution_count": 16,
     "metadata": {},
     "output_type": "execute_result"
    }
   ],
   "source": [
    "trips.head(1)"
   ]
  },
  {
   "cell_type": "code",
   "execution_count": 17,
   "id": "1ad21aa3",
   "metadata": {},
   "outputs": [],
   "source": [
    "trips.drop(columns=['trip_headsign','trip_short_name','direction_id','block_id','shape_id'],inplace=True)"
   ]
  },
  {
   "cell_type": "code",
   "execution_count": 18,
   "id": "1dae6f7e",
   "metadata": {},
   "outputs": [
    {
     "data": {
      "text/html": [
       "<div>\n",
       "<style scoped>\n",
       "    .dataframe tbody tr th:only-of-type {\n",
       "        vertical-align: middle;\n",
       "    }\n",
       "\n",
       "    .dataframe tbody tr th {\n",
       "        vertical-align: top;\n",
       "    }\n",
       "\n",
       "    .dataframe thead th {\n",
       "        text-align: right;\n",
       "    }\n",
       "</style>\n",
       "<table border=\"1\" class=\"dataframe\">\n",
       "  <thead>\n",
       "    <tr style=\"text-align: right;\">\n",
       "      <th></th>\n",
       "      <th>route_id</th>\n",
       "      <th>service_id</th>\n",
       "      <th>trip_id</th>\n",
       "      <th>wheelchair_accessible</th>\n",
       "      <th>bikes_allowed</th>\n",
       "    </tr>\n",
       "  </thead>\n",
       "  <tbody>\n",
       "    <tr>\n",
       "      <th>0</th>\n",
       "      <td>0</td>\n",
       "      <td>weekday</td>\n",
       "      <td>0</td>\n",
       "      <td>0</td>\n",
       "      <td>0</td>\n",
       "    </tr>\n",
       "  </tbody>\n",
       "</table>\n",
       "</div>"
      ],
      "text/plain": [
       "   route_id service_id  trip_id  wheelchair_accessible  bikes_allowed\n",
       "0         0    weekday        0                      0              0"
      ]
     },
     "execution_count": 18,
     "metadata": {},
     "output_type": "execute_result"
    }
   ],
   "source": [
    "trips.head(1)"
   ]
  },
  {
   "cell_type": "code",
   "execution_count": null,
   "id": "3f71fdc9",
   "metadata": {},
   "outputs": [],
   "source": []
  },
  {
   "cell_type": "code",
   "execution_count": 19,
   "id": "0ee0932c",
   "metadata": {},
   "outputs": [
    {
     "data": {
      "text/html": [
       "<div>\n",
       "<style scoped>\n",
       "    .dataframe tbody tr th:only-of-type {\n",
       "        vertical-align: middle;\n",
       "    }\n",
       "\n",
       "    .dataframe tbody tr th {\n",
       "        vertical-align: top;\n",
       "    }\n",
       "\n",
       "    .dataframe thead th {\n",
       "        text-align: right;\n",
       "    }\n",
       "</style>\n",
       "<table border=\"1\" class=\"dataframe\">\n",
       "  <thead>\n",
       "    <tr style=\"text-align: right;\">\n",
       "      <th></th>\n",
       "      <th>service_id</th>\n",
       "      <th>monday</th>\n",
       "      <th>tuesday</th>\n",
       "      <th>wednesday</th>\n",
       "      <th>thursday</th>\n",
       "      <th>friday</th>\n",
       "      <th>saturday</th>\n",
       "      <th>sunday</th>\n",
       "      <th>start_date</th>\n",
       "      <th>end_date</th>\n",
       "    </tr>\n",
       "  </thead>\n",
       "  <tbody>\n",
       "    <tr>\n",
       "      <th>0</th>\n",
       "      <td>weekday</td>\n",
       "      <td>1</td>\n",
       "      <td>1</td>\n",
       "      <td>1</td>\n",
       "      <td>1</td>\n",
       "      <td>1</td>\n",
       "      <td>0</td>\n",
       "      <td>0</td>\n",
       "      <td>20190101</td>\n",
       "      <td>20251231</td>\n",
       "    </tr>\n",
       "  </tbody>\n",
       "</table>\n",
       "</div>"
      ],
      "text/plain": [
       "  service_id  monday  tuesday  wednesday  thursday  friday  saturday  sunday  \\\n",
       "0    weekday       1        1          1         1       1         0       0   \n",
       "\n",
       "   start_date  end_date  \n",
       "0    20190101  20251231  "
      ]
     },
     "execution_count": 19,
     "metadata": {},
     "output_type": "execute_result"
    }
   ],
   "source": [
    "calendar.head(1)"
   ]
  },
  {
   "cell_type": "code",
   "execution_count": 20,
   "id": "d9747795",
   "metadata": {},
   "outputs": [
    {
     "data": {
      "text/html": [
       "<div>\n",
       "<style scoped>\n",
       "    .dataframe tbody tr th:only-of-type {\n",
       "        vertical-align: middle;\n",
       "    }\n",
       "\n",
       "    .dataframe tbody tr th {\n",
       "        vertical-align: top;\n",
       "    }\n",
       "\n",
       "    .dataframe thead th {\n",
       "        text-align: right;\n",
       "    }\n",
       "</style>\n",
       "<table border=\"1\" class=\"dataframe\">\n",
       "  <thead>\n",
       "    <tr style=\"text-align: right;\">\n",
       "      <th></th>\n",
       "      <th>route_id</th>\n",
       "      <th>route_short_name</th>\n",
       "      <th>route_long_name</th>\n",
       "      <th>route_type</th>\n",
       "    </tr>\n",
       "  </thead>\n",
       "  <tbody>\n",
       "    <tr>\n",
       "      <th>0</th>\n",
       "      <td>33</td>\n",
       "      <td>R_SP_R</td>\n",
       "      <td>RAPID_Phase 3 (Rapid Metro) to Sector 55-56 (R...</td>\n",
       "      <td>1</td>\n",
       "    </tr>\n",
       "  </tbody>\n",
       "</table>\n",
       "</div>"
      ],
      "text/plain": [
       "   route_id route_short_name  \\\n",
       "0        33           R_SP_R   \n",
       "\n",
       "                                     route_long_name  route_type  \n",
       "0  RAPID_Phase 3 (Rapid Metro) to Sector 55-56 (R...           1  "
      ]
     },
     "execution_count": 20,
     "metadata": {},
     "output_type": "execute_result"
    }
   ],
   "source": [
    "routes.head(1)"
   ]
  },
  {
   "cell_type": "code",
   "execution_count": 21,
   "id": "e89cd057",
   "metadata": {},
   "outputs": [
    {
     "data": {
      "text/html": [
       "<div>\n",
       "<style scoped>\n",
       "    .dataframe tbody tr th:only-of-type {\n",
       "        vertical-align: middle;\n",
       "    }\n",
       "\n",
       "    .dataframe tbody tr th {\n",
       "        vertical-align: top;\n",
       "    }\n",
       "\n",
       "    .dataframe thead th {\n",
       "        text-align: right;\n",
       "    }\n",
       "</style>\n",
       "<table border=\"1\" class=\"dataframe\">\n",
       "  <thead>\n",
       "    <tr style=\"text-align: right;\">\n",
       "      <th></th>\n",
       "      <th>trip_id</th>\n",
       "      <th>arrival_time</th>\n",
       "      <th>departure_time</th>\n",
       "      <th>stop_id</th>\n",
       "      <th>stop_sequence</th>\n",
       "      <th>pickup_type</th>\n",
       "      <th>drop_off_type</th>\n",
       "      <th>shape_dist_traveled</th>\n",
       "      <th>timepoint</th>\n",
       "    </tr>\n",
       "  </thead>\n",
       "  <tbody>\n",
       "    <tr>\n",
       "      <th>0</th>\n",
       "      <td>0</td>\n",
       "      <td>05:28:08</td>\n",
       "      <td>05:28:28</td>\n",
       "      <td>21</td>\n",
       "      <td>0</td>\n",
       "      <td>0</td>\n",
       "      <td>0</td>\n",
       "      <td>0.0</td>\n",
       "      <td>1</td>\n",
       "    </tr>\n",
       "  </tbody>\n",
       "</table>\n",
       "</div>"
      ],
      "text/plain": [
       "   trip_id arrival_time departure_time  stop_id  stop_sequence  pickup_type  \\\n",
       "0        0     05:28:08       05:28:28       21              0            0   \n",
       "\n",
       "   drop_off_type  shape_dist_traveled  timepoint  \n",
       "0              0                  0.0          1  "
      ]
     },
     "execution_count": 21,
     "metadata": {},
     "output_type": "execute_result"
    }
   ],
   "source": [
    "stop_times.head(1)"
   ]
  },
  {
   "cell_type": "code",
   "execution_count": 22,
   "id": "ce39c1b2",
   "metadata": {},
   "outputs": [
    {
     "data": {
      "text/html": [
       "<div>\n",
       "<style scoped>\n",
       "    .dataframe tbody tr th:only-of-type {\n",
       "        vertical-align: middle;\n",
       "    }\n",
       "\n",
       "    .dataframe tbody tr th {\n",
       "        vertical-align: top;\n",
       "    }\n",
       "\n",
       "    .dataframe thead th {\n",
       "        text-align: right;\n",
       "    }\n",
       "</style>\n",
       "<table border=\"1\" class=\"dataframe\">\n",
       "  <thead>\n",
       "    <tr style=\"text-align: right;\">\n",
       "      <th></th>\n",
       "      <th>stop_id</th>\n",
       "      <th>stop_name</th>\n",
       "      <th>stop_lat</th>\n",
       "      <th>stop_lon</th>\n",
       "    </tr>\n",
       "  </thead>\n",
       "  <tbody>\n",
       "    <tr>\n",
       "      <th>0</th>\n",
       "      <td>1</td>\n",
       "      <td>Dilshad Garden</td>\n",
       "      <td>28.675991</td>\n",
       "      <td>77.321495</td>\n",
       "    </tr>\n",
       "  </tbody>\n",
       "</table>\n",
       "</div>"
      ],
      "text/plain": [
       "   stop_id       stop_name   stop_lat   stop_lon\n",
       "0        1  Dilshad Garden  28.675991  77.321495"
      ]
     },
     "execution_count": 22,
     "metadata": {},
     "output_type": "execute_result"
    }
   ],
   "source": [
    "stops.head(1)"
   ]
  },
  {
   "cell_type": "code",
   "execution_count": 23,
   "id": "b0b0d3cc",
   "metadata": {},
   "outputs": [
    {
     "data": {
      "text/html": [
       "<div>\n",
       "<style scoped>\n",
       "    .dataframe tbody tr th:only-of-type {\n",
       "        vertical-align: middle;\n",
       "    }\n",
       "\n",
       "    .dataframe tbody tr th {\n",
       "        vertical-align: top;\n",
       "    }\n",
       "\n",
       "    .dataframe thead th {\n",
       "        text-align: right;\n",
       "    }\n",
       "</style>\n",
       "<table border=\"1\" class=\"dataframe\">\n",
       "  <thead>\n",
       "    <tr style=\"text-align: right;\">\n",
       "      <th></th>\n",
       "      <th>route_id</th>\n",
       "      <th>service_id</th>\n",
       "      <th>trip_id</th>\n",
       "      <th>wheelchair_accessible</th>\n",
       "      <th>bikes_allowed</th>\n",
       "    </tr>\n",
       "  </thead>\n",
       "  <tbody>\n",
       "    <tr>\n",
       "      <th>0</th>\n",
       "      <td>0</td>\n",
       "      <td>weekday</td>\n",
       "      <td>0</td>\n",
       "      <td>0</td>\n",
       "      <td>0</td>\n",
       "    </tr>\n",
       "  </tbody>\n",
       "</table>\n",
       "</div>"
      ],
      "text/plain": [
       "   route_id service_id  trip_id  wheelchair_accessible  bikes_allowed\n",
       "0         0    weekday        0                      0              0"
      ]
     },
     "execution_count": 23,
     "metadata": {},
     "output_type": "execute_result"
    }
   ],
   "source": [
    "trips.head(1)"
   ]
  },
  {
   "cell_type": "code",
   "execution_count": 24,
   "id": "3bce4943",
   "metadata": {},
   "outputs": [
    {
     "data": {
      "text/html": [
       "<div>\n",
       "<style scoped>\n",
       "    .dataframe tbody tr th:only-of-type {\n",
       "        vertical-align: middle;\n",
       "    }\n",
       "\n",
       "    .dataframe tbody tr th {\n",
       "        vertical-align: top;\n",
       "    }\n",
       "\n",
       "    .dataframe thead th {\n",
       "        text-align: right;\n",
       "    }\n",
       "</style>\n",
       "<table border=\"1\" class=\"dataframe\">\n",
       "  <thead>\n",
       "    <tr style=\"text-align: right;\">\n",
       "      <th></th>\n",
       "      <th>shape_id</th>\n",
       "      <th>shape_pt_lat</th>\n",
       "      <th>shape_pt_lon</th>\n",
       "      <th>shape_pt_sequence</th>\n",
       "      <th>shape_dist_traveled</th>\n",
       "    </tr>\n",
       "  </thead>\n",
       "  <tbody>\n",
       "    <tr>\n",
       "      <th>0</th>\n",
       "      <td>shp_1_2</td>\n",
       "      <td>28.615887</td>\n",
       "      <td>77.022461</td>\n",
       "      <td>1</td>\n",
       "      <td>0.0</td>\n",
       "    </tr>\n",
       "  </tbody>\n",
       "</table>\n",
       "</div>"
      ],
      "text/plain": [
       "  shape_id  shape_pt_lat  shape_pt_lon  shape_pt_sequence  shape_dist_traveled\n",
       "0  shp_1_2     28.615887     77.022461                  1                  0.0"
      ]
     },
     "execution_count": 24,
     "metadata": {},
     "output_type": "execute_result"
    }
   ],
   "source": [
    "shapes.head(1)"
   ]
  },
  {
   "cell_type": "code",
   "execution_count": null,
   "id": "ccec4774",
   "metadata": {},
   "outputs": [],
   "source": []
  },
  {
   "cell_type": "markdown",
   "id": "4997c5bb",
   "metadata": {},
   "source": [
    "### I’ll start by plotting the geographical paths of different routes on a map to visualize how the Delhi Metro covers the area:"
   ]
  },
  {
   "cell_type": "code",
   "execution_count": 25,
   "id": "7fb8656d",
   "metadata": {},
   "outputs": [
    {
     "data": {
      "image/png": "[encoded data removed]",
      "text/plain": [
       "<Figure size 900x600 with 1 Axes>"
      ]
     },
     "metadata": {},
     "output_type": "display_data"
    }
   ],
   "source": [
    "plt.figure(figsize=(9,6))\n",
    "\n",
    "sns.scatterplot(data=shapes,x='shape_pt_lon',y='shape_pt_lat',hue='shape_id',palette='viridis',legend=False,s=10)\n",
    "\n",
    "plt.xlabel('Longitude',labelpad=20)\n",
    "plt.ylabel('Latitude',labelpad=20)\n",
    "plt.title('Geographical paths of different routes')\n",
    "plt.grid(True)\n",
    "plt.show()"
   ]
  },
  {
   "cell_type": "markdown",
   "id": "6a7fda55",
   "metadata": {},
   "source": [
    "### Scatter Plot Summary\n",
    "Points higher on the plot indicate locations further north, while points lower indicate locations further south. Points towards the right of the plot represent locations further east, and points towards the left represent locations further west"
   ]
  },
  {
   "cell_type": "code",
   "execution_count": null,
   "id": "ed06a1e3",
   "metadata": {},
   "outputs": [],
   "source": []
  },
  {
   "cell_type": "markdown",
   "id": "14612fd2",
   "metadata": {},
   "source": [
    "### Next, I will examine the frequency and scheduling of trips across different days of the week by analyzing the calendar and trip data:"
   ]
  },
  {
   "cell_type": "code",
   "execution_count": 26,
   "id": "7b931b93",
   "metadata": {},
   "outputs": [
    {
     "data": {
      "text/html": [
       "<div>\n",
       "<style scoped>\n",
       "    .dataframe tbody tr th:only-of-type {\n",
       "        vertical-align: middle;\n",
       "    }\n",
       "\n",
       "    .dataframe tbody tr th {\n",
       "        vertical-align: top;\n",
       "    }\n",
       "\n",
       "    .dataframe thead th {\n",
       "        text-align: right;\n",
       "    }\n",
       "</style>\n",
       "<table border=\"1\" class=\"dataframe\">\n",
       "  <thead>\n",
       "    <tr style=\"text-align: right;\">\n",
       "      <th></th>\n",
       "      <th>route_id</th>\n",
       "      <th>service_id</th>\n",
       "      <th>trip_id</th>\n",
       "      <th>wheelchair_accessible</th>\n",
       "      <th>bikes_allowed</th>\n",
       "    </tr>\n",
       "  </thead>\n",
       "  <tbody>\n",
       "    <tr>\n",
       "      <th>0</th>\n",
       "      <td>0</td>\n",
       "      <td>weekday</td>\n",
       "      <td>0</td>\n",
       "      <td>0</td>\n",
       "      <td>0</td>\n",
       "    </tr>\n",
       "  </tbody>\n",
       "</table>\n",
       "</div>"
      ],
      "text/plain": [
       "   route_id service_id  trip_id  wheelchair_accessible  bikes_allowed\n",
       "0         0    weekday        0                      0              0"
      ]
     },
     "execution_count": 26,
     "metadata": {},
     "output_type": "execute_result"
    }
   ],
   "source": [
    "trips.head(1)"
   ]
  },
  {
   "cell_type": "code",
   "execution_count": 27,
   "id": "49bf7807",
   "metadata": {},
   "outputs": [
    {
     "data": {
      "text/html": [
       "<div>\n",
       "<style scoped>\n",
       "    .dataframe tbody tr th:only-of-type {\n",
       "        vertical-align: middle;\n",
       "    }\n",
       "\n",
       "    .dataframe tbody tr th {\n",
       "        vertical-align: top;\n",
       "    }\n",
       "\n",
       "    .dataframe thead th {\n",
       "        text-align: right;\n",
       "    }\n",
       "</style>\n",
       "<table border=\"1\" class=\"dataframe\">\n",
       "  <thead>\n",
       "    <tr style=\"text-align: right;\">\n",
       "      <th></th>\n",
       "      <th>service_id</th>\n",
       "      <th>monday</th>\n",
       "      <th>tuesday</th>\n",
       "      <th>wednesday</th>\n",
       "      <th>thursday</th>\n",
       "      <th>friday</th>\n",
       "      <th>saturday</th>\n",
       "      <th>sunday</th>\n",
       "      <th>start_date</th>\n",
       "      <th>end_date</th>\n",
       "    </tr>\n",
       "  </thead>\n",
       "  <tbody>\n",
       "    <tr>\n",
       "      <th>0</th>\n",
       "      <td>weekday</td>\n",
       "      <td>1</td>\n",
       "      <td>1</td>\n",
       "      <td>1</td>\n",
       "      <td>1</td>\n",
       "      <td>1</td>\n",
       "      <td>0</td>\n",
       "      <td>0</td>\n",
       "      <td>20190101</td>\n",
       "      <td>20251231</td>\n",
       "    </tr>\n",
       "  </tbody>\n",
       "</table>\n",
       "</div>"
      ],
      "text/plain": [
       "  service_id  monday  tuesday  wednesday  thursday  friday  saturday  sunday  \\\n",
       "0    weekday       1        1          1         1       1         0       0   \n",
       "\n",
       "   start_date  end_date  \n",
       "0    20190101  20251231  "
      ]
     },
     "execution_count": 27,
     "metadata": {},
     "output_type": "execute_result"
    }
   ],
   "source": [
    "calendar.head(1)"
   ]
  },
  {
   "cell_type": "code",
   "execution_count": 28,
   "id": "02a88b9e",
   "metadata": {},
   "outputs": [],
   "source": [
    "# merge trips with calendar to include the day of operation information\n",
    "trips_calendar = pd.merge(trips, calendar, on='service_id', how='left')"
   ]
  },
  {
   "cell_type": "code",
   "execution_count": 71,
   "id": "26e6cf73",
   "metadata": {},
   "outputs": [
    {
     "data": {
      "text/html": [
       "<div>\n",
       "<style scoped>\n",
       "    .dataframe tbody tr th:only-of-type {\n",
       "        vertical-align: middle;\n",
       "    }\n",
       "\n",
       "    .dataframe tbody tr th {\n",
       "        vertical-align: top;\n",
       "    }\n",
       "\n",
       "    .dataframe thead th {\n",
       "        text-align: right;\n",
       "    }\n",
       "</style>\n",
       "<table border=\"1\" class=\"dataframe\">\n",
       "  <thead>\n",
       "    <tr style=\"text-align: right;\">\n",
       "      <th></th>\n",
       "      <th>route_id</th>\n",
       "      <th>service_id</th>\n",
       "      <th>trip_id</th>\n",
       "      <th>wheelchair_accessible</th>\n",
       "      <th>bikes_allowed</th>\n",
       "      <th>monday</th>\n",
       "      <th>tuesday</th>\n",
       "      <th>wednesday</th>\n",
       "      <th>thursday</th>\n",
       "      <th>friday</th>\n",
       "      <th>saturday</th>\n",
       "      <th>sunday</th>\n",
       "      <th>start_date</th>\n",
       "      <th>end_date</th>\n",
       "    </tr>\n",
       "  </thead>\n",
       "  <tbody>\n",
       "    <tr>\n",
       "      <th>0</th>\n",
       "      <td>0</td>\n",
       "      <td>weekday</td>\n",
       "      <td>0</td>\n",
       "      <td>0</td>\n",
       "      <td>0</td>\n",
       "      <td>1</td>\n",
       "      <td>1</td>\n",
       "      <td>1</td>\n",
       "      <td>1</td>\n",
       "      <td>1</td>\n",
       "      <td>0</td>\n",
       "      <td>0</td>\n",
       "      <td>20190101</td>\n",
       "      <td>20251231</td>\n",
       "    </tr>\n",
       "    <tr>\n",
       "      <th>1</th>\n",
       "      <td>0</td>\n",
       "      <td>weekday</td>\n",
       "      <td>1</td>\n",
       "      <td>0</td>\n",
       "      <td>0</td>\n",
       "      <td>1</td>\n",
       "      <td>1</td>\n",
       "      <td>1</td>\n",
       "      <td>1</td>\n",
       "      <td>1</td>\n",
       "      <td>0</td>\n",
       "      <td>0</td>\n",
       "      <td>20190101</td>\n",
       "      <td>20251231</td>\n",
       "    </tr>\n",
       "    <tr>\n",
       "      <th>2</th>\n",
       "      <td>0</td>\n",
       "      <td>weekday</td>\n",
       "      <td>10</td>\n",
       "      <td>0</td>\n",
       "      <td>0</td>\n",
       "      <td>1</td>\n",
       "      <td>1</td>\n",
       "      <td>1</td>\n",
       "      <td>1</td>\n",
       "      <td>1</td>\n",
       "      <td>0</td>\n",
       "      <td>0</td>\n",
       "      <td>20190101</td>\n",
       "      <td>20251231</td>\n",
       "    </tr>\n",
       "    <tr>\n",
       "      <th>3</th>\n",
       "      <td>0</td>\n",
       "      <td>weekday</td>\n",
       "      <td>100</td>\n",
       "      <td>0</td>\n",
       "      <td>0</td>\n",
       "      <td>1</td>\n",
       "      <td>1</td>\n",
       "      <td>1</td>\n",
       "      <td>1</td>\n",
       "      <td>1</td>\n",
       "      <td>0</td>\n",
       "      <td>0</td>\n",
       "      <td>20190101</td>\n",
       "      <td>20251231</td>\n",
       "    </tr>\n",
       "    <tr>\n",
       "      <th>4</th>\n",
       "      <td>2</td>\n",
       "      <td>weekday</td>\n",
       "      <td>1000</td>\n",
       "      <td>0</td>\n",
       "      <td>0</td>\n",
       "      <td>1</td>\n",
       "      <td>1</td>\n",
       "      <td>1</td>\n",
       "      <td>1</td>\n",
       "      <td>1</td>\n",
       "      <td>0</td>\n",
       "      <td>0</td>\n",
       "      <td>20190101</td>\n",
       "      <td>20251231</td>\n",
       "    </tr>\n",
       "    <tr>\n",
       "      <th>...</th>\n",
       "      <td>...</td>\n",
       "      <td>...</td>\n",
       "      <td>...</td>\n",
       "      <td>...</td>\n",
       "      <td>...</td>\n",
       "      <td>...</td>\n",
       "      <td>...</td>\n",
       "      <td>...</td>\n",
       "      <td>...</td>\n",
       "      <td>...</td>\n",
       "      <td>...</td>\n",
       "      <td>...</td>\n",
       "      <td>...</td>\n",
       "      <td>...</td>\n",
       "    </tr>\n",
       "    <tr>\n",
       "      <th>5433</th>\n",
       "      <td>18</td>\n",
       "      <td>weekday</td>\n",
       "      <td>9487</td>\n",
       "      <td>0</td>\n",
       "      <td>0</td>\n",
       "      <td>1</td>\n",
       "      <td>1</td>\n",
       "      <td>1</td>\n",
       "      <td>1</td>\n",
       "      <td>1</td>\n",
       "      <td>0</td>\n",
       "      <td>0</td>\n",
       "      <td>20190101</td>\n",
       "      <td>20251231</td>\n",
       "    </tr>\n",
       "    <tr>\n",
       "      <th>5434</th>\n",
       "      <td>18</td>\n",
       "      <td>weekday</td>\n",
       "      <td>9488</td>\n",
       "      <td>0</td>\n",
       "      <td>0</td>\n",
       "      <td>1</td>\n",
       "      <td>1</td>\n",
       "      <td>1</td>\n",
       "      <td>1</td>\n",
       "      <td>1</td>\n",
       "      <td>0</td>\n",
       "      <td>0</td>\n",
       "      <td>20190101</td>\n",
       "      <td>20251231</td>\n",
       "    </tr>\n",
       "    <tr>\n",
       "      <th>5435</th>\n",
       "      <td>18</td>\n",
       "      <td>weekday</td>\n",
       "      <td>9489</td>\n",
       "      <td>0</td>\n",
       "      <td>0</td>\n",
       "      <td>1</td>\n",
       "      <td>1</td>\n",
       "      <td>1</td>\n",
       "      <td>1</td>\n",
       "      <td>1</td>\n",
       "      <td>0</td>\n",
       "      <td>0</td>\n",
       "      <td>20190101</td>\n",
       "      <td>20251231</td>\n",
       "    </tr>\n",
       "    <tr>\n",
       "      <th>5436</th>\n",
       "      <td>18</td>\n",
       "      <td>weekday</td>\n",
       "      <td>9490</td>\n",
       "      <td>0</td>\n",
       "      <td>0</td>\n",
       "      <td>1</td>\n",
       "      <td>1</td>\n",
       "      <td>1</td>\n",
       "      <td>1</td>\n",
       "      <td>1</td>\n",
       "      <td>0</td>\n",
       "      <td>0</td>\n",
       "      <td>20190101</td>\n",
       "      <td>20251231</td>\n",
       "    </tr>\n",
       "    <tr>\n",
       "      <th>5437</th>\n",
       "      <td>18</td>\n",
       "      <td>weekday</td>\n",
       "      <td>9491</td>\n",
       "      <td>0</td>\n",
       "      <td>0</td>\n",
       "      <td>1</td>\n",
       "      <td>1</td>\n",
       "      <td>1</td>\n",
       "      <td>1</td>\n",
       "      <td>1</td>\n",
       "      <td>0</td>\n",
       "      <td>0</td>\n",
       "      <td>20190101</td>\n",
       "      <td>20251231</td>\n",
       "    </tr>\n",
       "  </tbody>\n",
       "</table>\n",
       "<p>5438 rows × 14 columns</p>\n",
       "</div>"
      ],
      "text/plain": [
       "      route_id service_id  trip_id  wheelchair_accessible  bikes_allowed  \\\n",
       "0            0    weekday        0                      0              0   \n",
       "1            0    weekday        1                      0              0   \n",
       "2            0    weekday       10                      0              0   \n",
       "3            0    weekday      100                      0              0   \n",
       "4            2    weekday     1000                      0              0   \n",
       "...        ...        ...      ...                    ...            ...   \n",
       "5433        18    weekday     9487                      0              0   \n",
       "5434        18    weekday     9488                      0              0   \n",
       "5435        18    weekday     9489                      0              0   \n",
       "5436        18    weekday     9490                      0              0   \n",
       "5437        18    weekday     9491                      0              0   \n",
       "\n",
       "      monday  tuesday  wednesday  thursday  friday  saturday  sunday  \\\n",
       "0          1        1          1         1       1         0       0   \n",
       "1          1        1          1         1       1         0       0   \n",
       "2          1        1          1         1       1         0       0   \n",
       "3          1        1          1         1       1         0       0   \n",
       "4          1        1          1         1       1         0       0   \n",
       "...      ...      ...        ...       ...     ...       ...     ...   \n",
       "5433       1        1          1         1       1         0       0   \n",
       "5434       1        1          1         1       1         0       0   \n",
       "5435       1        1          1         1       1         0       0   \n",
       "5436       1        1          1         1       1         0       0   \n",
       "5437       1        1          1         1       1         0       0   \n",
       "\n",
       "      start_date  end_date  \n",
       "0       20190101  20251231  \n",
       "1       20190101  20251231  \n",
       "2       20190101  20251231  \n",
       "3       20190101  20251231  \n",
       "4       20190101  20251231  \n",
       "...          ...       ...  \n",
       "5433    20190101  20251231  \n",
       "5434    20190101  20251231  \n",
       "5435    20190101  20251231  \n",
       "5436    20190101  20251231  \n",
       "5437    20190101  20251231  \n",
       "\n",
       "[5438 rows x 14 columns]"
      ]
     },
     "execution_count": 71,
     "metadata": {},
     "output_type": "execute_result"
    }
   ],
   "source": [
    "trips_calendar"
   ]
  },
  {
   "cell_type": "code",
   "execution_count": 30,
   "id": "1588644c",
   "metadata": {},
   "outputs": [],
   "source": [
    "# count the number of trips per day of the week\n",
    "data = trips_calendar[['monday', 'tuesday', 'wednesday', 'thursday', 'friday', 'saturday', 'sunday']].sum()\n",
    "\n",
    "#This gives the ouput in a pandas series  "
   ]
  },
  {
   "cell_type": "code",
   "execution_count": 31,
   "id": "6b4383de",
   "metadata": {},
   "outputs": [
    {
     "data": {
      "text/plain": [
       "monday       5379\n",
       "tuesday      5379\n",
       "wednesday    5379\n",
       "thursday     5379\n",
       "friday       5379\n",
       "saturday       59\n",
       "sunday          0\n",
       "dtype: int64"
      ]
     },
     "execution_count": 31,
     "metadata": {},
     "output_type": "execute_result"
    }
   ],
   "source": [
    "data"
   ]
  },
  {
   "cell_type": "code",
   "execution_count": 79,
   "id": "c216cb06",
   "metadata": {},
   "outputs": [
    {
     "data": {
      "image/png": "[encoded data removed]",
      "text/plain": [
       "<Figure size 800x400 with 1 Axes>"
      ]
     },
     "metadata": {},
     "output_type": "display_data"
    }
   ],
   "source": [
    "plt.figure(figsize=(8,4))\n",
    "ax = data.plot(kind='bar') \n",
    "ax.bar_label(ax.containers[0])\n",
    "\n",
    "\n",
    "#.plot is function of pandas\n",
    "#We can also use seaborn only will have to use x=data.index,y=data.values to plot beacuse it is a pandas series not a dataframe\n",
    "\n",
    "plt.title('Number of Trips per Day of the Week')\n",
    "plt.xlabel('Day of the Week')\n",
    "plt.ylabel('Number of Trips',labelpad=20)\n",
    "plt.xticks(rotation=45)\n",
    "\n",
    "plt.show()"
   ]
  },
  {
   "cell_type": "markdown",
   "id": "a7759dc6",
   "metadata": {},
   "source": [
    "### Summary of the Above Graph "
   ]
  },
  {
   "cell_type": "raw",
   "id": "31ff18c2",
   "metadata": {},
   "source": [
    "The bar chart illustrates the number of trips scheduled for each day of the week for the Delhi Metro. As we can see, the number of trips from Monday to Friday is consistent, indicating a stable weekday schedule designed to accommodate regular commuter traffic. In contrast, the trips decrease slightly on Saturday and even more on Sunday, reflecting lower demand or a reduced service schedule on weekends.\n",
    "This finding suggests that the Delhi Metro strategically scales its operations based on the expected daily ridership, which likely peaks during weekdays due to work and school commutes."
   ]
  },
  {
   "cell_type": "code",
   "execution_count": null,
   "id": "b7510b29",
   "metadata": {},
   "outputs": [],
   "source": []
  },
  {
   "cell_type": "markdown",
   "id": "d31c20b7",
   "metadata": {},
   "source": [
    "## To further analyze the connectivity and effectiveness of the route strategy, I will analyze the distribution and connectivity of stops:\n"
   ]
  },
  {
   "cell_type": "code",
   "execution_count": 33,
   "id": "e7640ca6",
   "metadata": {},
   "outputs": [
    {
     "data": {
      "text/html": [
       "<div>\n",
       "<style scoped>\n",
       "    .dataframe tbody tr th:only-of-type {\n",
       "        vertical-align: middle;\n",
       "    }\n",
       "\n",
       "    .dataframe tbody tr th {\n",
       "        vertical-align: top;\n",
       "    }\n",
       "\n",
       "    .dataframe thead th {\n",
       "        text-align: right;\n",
       "    }\n",
       "</style>\n",
       "<table border=\"1\" class=\"dataframe\">\n",
       "  <thead>\n",
       "    <tr style=\"text-align: right;\">\n",
       "      <th></th>\n",
       "      <th>stop_id</th>\n",
       "      <th>stop_name</th>\n",
       "      <th>stop_lat</th>\n",
       "      <th>stop_lon</th>\n",
       "    </tr>\n",
       "  </thead>\n",
       "  <tbody>\n",
       "    <tr>\n",
       "      <th>0</th>\n",
       "      <td>1</td>\n",
       "      <td>Dilshad Garden</td>\n",
       "      <td>28.675991</td>\n",
       "      <td>77.321495</td>\n",
       "    </tr>\n",
       "  </tbody>\n",
       "</table>\n",
       "</div>"
      ],
      "text/plain": [
       "   stop_id       stop_name   stop_lat   stop_lon\n",
       "0        1  Dilshad Garden  28.675991  77.321495"
      ]
     },
     "execution_count": 33,
     "metadata": {},
     "output_type": "execute_result"
    }
   ],
   "source": [
    "stops.head(1)"
   ]
  },
  {
   "cell_type": "code",
   "execution_count": 34,
   "id": "75dd6701",
   "metadata": {},
   "outputs": [
    {
     "data": {
      "text/plain": [
       "262"
      ]
     },
     "execution_count": 34,
     "metadata": {},
     "output_type": "execute_result"
    }
   ],
   "source": [
    "stops['stop_id'].count() # There are Total 262 Stops in delhi metro service "
   ]
  },
  {
   "cell_type": "code",
   "execution_count": 35,
   "id": "3343ac1d",
   "metadata": {},
   "outputs": [
    {
     "data": {
      "image/png": "[encoded data removed]",
      "text/plain": [
       "<Figure size 1000x600 with 1 Axes>"
      ]
     },
     "metadata": {},
     "output_type": "display_data"
    }
   ],
   "source": [
    "plt.figure(figsize=(10,6))\n",
    "\n",
    "\n",
    "sns.scatterplot(data=stops,x='stop_lon',y='stop_lat',s=50,color='red')\n",
    "plt.title('Geographical Distribution of Delhi Metro Stops')\n",
    "plt.xlabel('Longitude')\n",
    "plt.ylabel('Latitude')\n",
    "plt.grid(True)\n",
    "plt.show()"
   ]
  },
  {
   "cell_type": "markdown",
   "id": "7e99f157",
   "metadata": {},
   "source": [
    "### Summary of the above graph: "
   ]
  },
  {
   "cell_type": "markdown",
   "id": "32c5b1b5",
   "metadata": {},
   "source": [
    "The scatter plot above shows the geographical distribution of Delhi Metro stops. Each red dot represents a metro stop, and their distribution across the map illustrates how the stops cover different areas of Delhi.\n",
    "From the plot, we can see a widespread distribution, suggesting that the Delhi Metro provides good spatial coverage, allowing access to a broad area and facilitating efficient travel across the city."
   ]
  },
  {
   "cell_type": "markdown",
   "id": "41c22da5",
   "metadata": {},
   "source": [
    "In summary, the presence of denser clusters among evenly spread transit stops indicates areas of higher demand for transit services and central hubs that facilitate efficient movement and connectivity within a city or region."
   ]
  },
  {
   "cell_type": "code",
   "execution_count": null,
   "id": "d473064d",
   "metadata": {},
   "outputs": [],
   "source": []
  },
  {
   "cell_type": "markdown",
   "id": "3186aef3",
   "metadata": {},
   "source": [
    "### Now, let’s analyze the route complexity. I will analyze how many routes pass through each stop, which can highlight key transfer points and central hubs within the Delhi Metro network: "
   ]
  },
  {
   "cell_type": "markdown",
   "id": "f00da834",
   "metadata": {},
   "source": [
    "In summary, by analyzing how many metro routes pass through each station, one can identify key transfer points and central hubs within the Delhi Metro network. This analysis helps in understanding the network’s complexity, connectivity, and the strategic importance of specific stations in facilitating efficient and convenient travel across Delhi.\n",
    "\n",
    "In the context of a metro or subway system, \"transfer points\" refer to stations where passengers can switch from one metro line or route to another. These points are crucial for facilitating seamless transitions between different parts of the metro network without requiring passengers to exit the system and re-enter at another station."
   ]
  },
  {
   "cell_type": "code",
   "execution_count": 36,
   "id": "fa46405b",
   "metadata": {},
   "outputs": [
    {
     "data": {
      "text/html": [
       "<div>\n",
       "<style scoped>\n",
       "    .dataframe tbody tr th:only-of-type {\n",
       "        vertical-align: middle;\n",
       "    }\n",
       "\n",
       "    .dataframe tbody tr th {\n",
       "        vertical-align: top;\n",
       "    }\n",
       "\n",
       "    .dataframe thead th {\n",
       "        text-align: right;\n",
       "    }\n",
       "</style>\n",
       "<table border=\"1\" class=\"dataframe\">\n",
       "  <thead>\n",
       "    <tr style=\"text-align: right;\">\n",
       "      <th></th>\n",
       "      <th>trip_id</th>\n",
       "      <th>arrival_time</th>\n",
       "      <th>departure_time</th>\n",
       "      <th>stop_id</th>\n",
       "      <th>stop_sequence</th>\n",
       "      <th>pickup_type</th>\n",
       "      <th>drop_off_type</th>\n",
       "      <th>shape_dist_traveled</th>\n",
       "      <th>timepoint</th>\n",
       "    </tr>\n",
       "  </thead>\n",
       "  <tbody>\n",
       "    <tr>\n",
       "      <th>0</th>\n",
       "      <td>0</td>\n",
       "      <td>05:28:08</td>\n",
       "      <td>05:28:28</td>\n",
       "      <td>21</td>\n",
       "      <td>0</td>\n",
       "      <td>0</td>\n",
       "      <td>0</td>\n",
       "      <td>0.0</td>\n",
       "      <td>1</td>\n",
       "    </tr>\n",
       "  </tbody>\n",
       "</table>\n",
       "</div>"
      ],
      "text/plain": [
       "   trip_id arrival_time departure_time  stop_id  stop_sequence  pickup_type  \\\n",
       "0        0     05:28:08       05:28:28       21              0            0   \n",
       "\n",
       "   drop_off_type  shape_dist_traveled  timepoint  \n",
       "0              0                  0.0          1  "
      ]
     },
     "execution_count": 36,
     "metadata": {},
     "output_type": "execute_result"
    }
   ],
   "source": [
    "stop_times.head(1)"
   ]
  },
  {
   "cell_type": "code",
   "execution_count": 100,
   "id": "2ddb635c",
   "metadata": {},
   "outputs": [
    {
     "data": {
      "text/html": [
       "<div>\n",
       "<style scoped>\n",
       "    .dataframe tbody tr th:only-of-type {\n",
       "        vertical-align: middle;\n",
       "    }\n",
       "\n",
       "    .dataframe tbody tr th {\n",
       "        vertical-align: top;\n",
       "    }\n",
       "\n",
       "    .dataframe thead th {\n",
       "        text-align: right;\n",
       "    }\n",
       "</style>\n",
       "<table border=\"1\" class=\"dataframe\">\n",
       "  <thead>\n",
       "    <tr style=\"text-align: right;\">\n",
       "      <th></th>\n",
       "      <th>trip_id</th>\n",
       "      <th>arrival_time</th>\n",
       "      <th>departure_time</th>\n",
       "      <th>stop_id</th>\n",
       "      <th>stop_sequence</th>\n",
       "      <th>pickup_type</th>\n",
       "      <th>drop_off_type</th>\n",
       "      <th>shape_dist_traveled</th>\n",
       "      <th>timepoint</th>\n",
       "      <th>time_interval</th>\n",
       "      <th>route_id</th>\n",
       "      <th>service_id</th>\n",
       "      <th>wheelchair_accessible</th>\n",
       "      <th>bikes_allowed</th>\n",
       "    </tr>\n",
       "  </thead>\n",
       "  <tbody>\n",
       "    <tr>\n",
       "      <th>0</th>\n",
       "      <td>0</td>\n",
       "      <td>05:28:08</td>\n",
       "      <td>05:28:28</td>\n",
       "      <td>21</td>\n",
       "      <td>0</td>\n",
       "      <td>0</td>\n",
       "      <td>0</td>\n",
       "      <td>0.000</td>\n",
       "      <td>1</td>\n",
       "      <td>Early Morning</td>\n",
       "      <td>0</td>\n",
       "      <td>weekday</td>\n",
       "      <td>0</td>\n",
       "      <td>0</td>\n",
       "    </tr>\n",
       "    <tr>\n",
       "      <th>1</th>\n",
       "      <td>0</td>\n",
       "      <td>05:30:58</td>\n",
       "      <td>05:31:18</td>\n",
       "      <td>20</td>\n",
       "      <td>1</td>\n",
       "      <td>0</td>\n",
       "      <td>0</td>\n",
       "      <td>1202.405</td>\n",
       "      <td>1</td>\n",
       "      <td>Early Morning</td>\n",
       "      <td>0</td>\n",
       "      <td>weekday</td>\n",
       "      <td>0</td>\n",
       "      <td>0</td>\n",
       "    </tr>\n",
       "    <tr>\n",
       "      <th>2</th>\n",
       "      <td>0</td>\n",
       "      <td>05:33:28</td>\n",
       "      <td>05:33:48</td>\n",
       "      <td>19</td>\n",
       "      <td>2</td>\n",
       "      <td>0</td>\n",
       "      <td>0</td>\n",
       "      <td>2480.750</td>\n",
       "      <td>1</td>\n",
       "      <td>Early Morning</td>\n",
       "      <td>0</td>\n",
       "      <td>weekday</td>\n",
       "      <td>0</td>\n",
       "      <td>0</td>\n",
       "    </tr>\n",
       "    <tr>\n",
       "      <th>3</th>\n",
       "      <td>0</td>\n",
       "      <td>05:35:33</td>\n",
       "      <td>05:35:53</td>\n",
       "      <td>18</td>\n",
       "      <td>3</td>\n",
       "      <td>0</td>\n",
       "      <td>0</td>\n",
       "      <td>3314.936</td>\n",
       "      <td>1</td>\n",
       "      <td>Early Morning</td>\n",
       "      <td>0</td>\n",
       "      <td>weekday</td>\n",
       "      <td>0</td>\n",
       "      <td>0</td>\n",
       "    </tr>\n",
       "    <tr>\n",
       "      <th>4</th>\n",
       "      <td>0</td>\n",
       "      <td>05:37:53</td>\n",
       "      <td>05:38:13</td>\n",
       "      <td>17</td>\n",
       "      <td>4</td>\n",
       "      <td>0</td>\n",
       "      <td>0</td>\n",
       "      <td>4300.216</td>\n",
       "      <td>1</td>\n",
       "      <td>Early Morning</td>\n",
       "      <td>0</td>\n",
       "      <td>weekday</td>\n",
       "      <td>0</td>\n",
       "      <td>0</td>\n",
       "    </tr>\n",
       "    <tr>\n",
       "      <th>...</th>\n",
       "      <td>...</td>\n",
       "      <td>...</td>\n",
       "      <td>...</td>\n",
       "      <td>...</td>\n",
       "      <td>...</td>\n",
       "      <td>...</td>\n",
       "      <td>...</td>\n",
       "      <td>...</td>\n",
       "      <td>...</td>\n",
       "      <td>...</td>\n",
       "      <td>...</td>\n",
       "      <td>...</td>\n",
       "      <td>...</td>\n",
       "      <td>...</td>\n",
       "    </tr>\n",
       "    <tr>\n",
       "      <th>128429</th>\n",
       "      <td>17548</td>\n",
       "      <td>22:14:55</td>\n",
       "      <td>22:15:15</td>\n",
       "      <td>512</td>\n",
       "      <td>8</td>\n",
       "      <td>0</td>\n",
       "      <td>0</td>\n",
       "      <td>11954.803</td>\n",
       "      <td>1</td>\n",
       "      <td>Late Evening</td>\n",
       "      <td>35</td>\n",
       "      <td>weekday</td>\n",
       "      <td>0</td>\n",
       "      <td>0</td>\n",
       "    </tr>\n",
       "    <tr>\n",
       "      <th>128430</th>\n",
       "      <td>17548</td>\n",
       "      <td>22:17:15</td>\n",
       "      <td>22:17:35</td>\n",
       "      <td>511</td>\n",
       "      <td>9</td>\n",
       "      <td>0</td>\n",
       "      <td>0</td>\n",
       "      <td>13655.823</td>\n",
       "      <td>1</td>\n",
       "      <td>Late Evening</td>\n",
       "      <td>35</td>\n",
       "      <td>weekday</td>\n",
       "      <td>0</td>\n",
       "      <td>0</td>\n",
       "    </tr>\n",
       "    <tr>\n",
       "      <th>128431</th>\n",
       "      <td>17548</td>\n",
       "      <td>22:19:35</td>\n",
       "      <td>22:19:55</td>\n",
       "      <td>510</td>\n",
       "      <td>10</td>\n",
       "      <td>0</td>\n",
       "      <td>0</td>\n",
       "      <td>14878.926</td>\n",
       "      <td>1</td>\n",
       "      <td>Late Evening</td>\n",
       "      <td>35</td>\n",
       "      <td>weekday</td>\n",
       "      <td>0</td>\n",
       "      <td>0</td>\n",
       "    </tr>\n",
       "    <tr>\n",
       "      <th>128432</th>\n",
       "      <td>17548</td>\n",
       "      <td>22:21:55</td>\n",
       "      <td>22:22:15</td>\n",
       "      <td>509</td>\n",
       "      <td>11</td>\n",
       "      <td>0</td>\n",
       "      <td>0</td>\n",
       "      <td>16252.104</td>\n",
       "      <td>1</td>\n",
       "      <td>Late Evening</td>\n",
       "      <td>35</td>\n",
       "      <td>weekday</td>\n",
       "      <td>0</td>\n",
       "      <td>0</td>\n",
       "    </tr>\n",
       "    <tr>\n",
       "      <th>128433</th>\n",
       "      <td>17548</td>\n",
       "      <td>22:24:15</td>\n",
       "      <td>22:24:35</td>\n",
       "      <td>508</td>\n",
       "      <td>12</td>\n",
       "      <td>0</td>\n",
       "      <td>0</td>\n",
       "      <td>17323.963</td>\n",
       "      <td>1</td>\n",
       "      <td>Late Evening</td>\n",
       "      <td>35</td>\n",
       "      <td>weekday</td>\n",
       "      <td>0</td>\n",
       "      <td>0</td>\n",
       "    </tr>\n",
       "  </tbody>\n",
       "</table>\n",
       "<p>128434 rows × 14 columns</p>\n",
       "</div>"
      ],
      "text/plain": [
       "        trip_id arrival_time departure_time  stop_id  stop_sequence  \\\n",
       "0             0     05:28:08       05:28:28       21              0   \n",
       "1             0     05:30:58       05:31:18       20              1   \n",
       "2             0     05:33:28       05:33:48       19              2   \n",
       "3             0     05:35:33       05:35:53       18              3   \n",
       "4             0     05:37:53       05:38:13       17              4   \n",
       "...         ...          ...            ...      ...            ...   \n",
       "128429    17548     22:14:55       22:15:15      512              8   \n",
       "128430    17548     22:17:15       22:17:35      511              9   \n",
       "128431    17548     22:19:35       22:19:55      510             10   \n",
       "128432    17548     22:21:55       22:22:15      509             11   \n",
       "128433    17548     22:24:15       22:24:35      508             12   \n",
       "\n",
       "        pickup_type  drop_off_type  shape_dist_traveled  timepoint  \\\n",
       "0                 0              0                0.000          1   \n",
       "1                 0              0             1202.405          1   \n",
       "2                 0              0             2480.750          1   \n",
       "3                 0              0             3314.936          1   \n",
       "4                 0              0             4300.216          1   \n",
       "...             ...            ...                  ...        ...   \n",
       "128429            0              0            11954.803          1   \n",
       "128430            0              0            13655.823          1   \n",
       "128431            0              0            14878.926          1   \n",
       "128432            0              0            16252.104          1   \n",
       "128433            0              0            17323.963          1   \n",
       "\n",
       "        time_interval  route_id service_id  wheelchair_accessible  \\\n",
       "0       Early Morning         0    weekday                      0   \n",
       "1       Early Morning         0    weekday                      0   \n",
       "2       Early Morning         0    weekday                      0   \n",
       "3       Early Morning         0    weekday                      0   \n",
       "4       Early Morning         0    weekday                      0   \n",
       "...               ...       ...        ...                    ...   \n",
       "128429   Late Evening        35    weekday                      0   \n",
       "128430   Late Evening        35    weekday                      0   \n",
       "128431   Late Evening        35    weekday                      0   \n",
       "128432   Late Evening        35    weekday                      0   \n",
       "128433   Late Evening        35    weekday                      0   \n",
       "\n",
       "        bikes_allowed  \n",
       "0                   0  \n",
       "1                   0  \n",
       "2                   0  \n",
       "3                   0  \n",
       "4                   0  \n",
       "...               ...  \n",
       "128429              0  \n",
       "128430              0  \n",
       "128431              0  \n",
       "128432              0  \n",
       "128433              0  \n",
       "\n",
       "[128434 rows x 14 columns]"
      ]
     },
     "execution_count": 100,
     "metadata": {},
     "output_type": "execute_result"
    }
   ],
   "source": [
    "pd.merge(stop_times,trips,on='trip_id')"
   ]
  },
  {
   "cell_type": "code",
   "execution_count": 37,
   "id": "8763012a",
   "metadata": {},
   "outputs": [
    {
     "data": {
      "text/html": [
       "<div>\n",
       "<style scoped>\n",
       "    .dataframe tbody tr th:only-of-type {\n",
       "        vertical-align: middle;\n",
       "    }\n",
       "\n",
       "    .dataframe tbody tr th {\n",
       "        vertical-align: top;\n",
       "    }\n",
       "\n",
       "    .dataframe thead th {\n",
       "        text-align: right;\n",
       "    }\n",
       "</style>\n",
       "<table border=\"1\" class=\"dataframe\">\n",
       "  <thead>\n",
       "    <tr style=\"text-align: right;\">\n",
       "      <th></th>\n",
       "      <th>route_id</th>\n",
       "      <th>service_id</th>\n",
       "      <th>trip_id</th>\n",
       "      <th>wheelchair_accessible</th>\n",
       "      <th>bikes_allowed</th>\n",
       "    </tr>\n",
       "  </thead>\n",
       "  <tbody>\n",
       "    <tr>\n",
       "      <th>0</th>\n",
       "      <td>0</td>\n",
       "      <td>weekday</td>\n",
       "      <td>0</td>\n",
       "      <td>0</td>\n",
       "      <td>0</td>\n",
       "    </tr>\n",
       "  </tbody>\n",
       "</table>\n",
       "</div>"
      ],
      "text/plain": [
       "   route_id service_id  trip_id  wheelchair_accessible  bikes_allowed\n",
       "0         0    weekday        0                      0              0"
      ]
     },
     "execution_count": 37,
     "metadata": {},
     "output_type": "execute_result"
    }
   ],
   "source": [
    "trips.head(1)"
   ]
  },
  {
   "cell_type": "code",
   "execution_count": 99,
   "id": "be3da37a",
   "metadata": {},
   "outputs": [
    {
     "data": {
      "text/html": [
       "<div>\n",
       "<style scoped>\n",
       "    .dataframe tbody tr th:only-of-type {\n",
       "        vertical-align: middle;\n",
       "    }\n",
       "\n",
       "    .dataframe tbody tr th {\n",
       "        vertical-align: top;\n",
       "    }\n",
       "\n",
       "    .dataframe thead th {\n",
       "        text-align: right;\n",
       "    }\n",
       "</style>\n",
       "<table border=\"1\" class=\"dataframe\">\n",
       "  <thead>\n",
       "    <tr style=\"text-align: right;\">\n",
       "      <th></th>\n",
       "      <th>route_id</th>\n",
       "      <th>route_short_name</th>\n",
       "      <th>route_long_name</th>\n",
       "      <th>route_type</th>\n",
       "    </tr>\n",
       "  </thead>\n",
       "  <tbody>\n",
       "    <tr>\n",
       "      <th>0</th>\n",
       "      <td>33</td>\n",
       "      <td>R_SP_R</td>\n",
       "      <td>RAPID_Phase 3 (Rapid Metro) to Sector 55-56 (R...</td>\n",
       "      <td>1</td>\n",
       "    </tr>\n",
       "  </tbody>\n",
       "</table>\n",
       "</div>"
      ],
      "text/plain": [
       "   route_id route_short_name  \\\n",
       "0        33           R_SP_R   \n",
       "\n",
       "                                     route_long_name  route_type  \n",
       "0  RAPID_Phase 3 (Rapid Metro) to Sector 55-56 (R...           1  "
      ]
     },
     "execution_count": 99,
     "metadata": {},
     "output_type": "execute_result"
    }
   ],
   "source": [
    "routes.head(1)"
   ]
  },
  {
   "cell_type": "code",
   "execution_count": 39,
   "id": "bf58c0f6",
   "metadata": {},
   "outputs": [],
   "source": [
    "# merge stops with stop_times to link each stop with trips, and then merge with trips to get route information\n",
    "stops_with_routes = pd.merge(pd.merge(stop_times, trips, on='trip_id'), routes, on='route_id')"
   ]
  },
  {
   "cell_type": "raw",
   "id": "8d9a316a",
   "metadata": {},
   "source": [
    "First Merge: The stop_times dataframe is merged with the trips dataframe on trip_id. This step adds trip-related information (such as route_id, service_id, wheelchair_accessible, and bikes_allowed) to each stop.\n",
    "Second Merge: The result of the first merge is then merged with the routes dataframe on route_id. This final step adds route-related information (such as route_short_name, route_long_name, and route_type) to each stop."
   ]
  },
  {
   "cell_type": "code",
   "execution_count": 40,
   "id": "d9cf24f7",
   "metadata": {},
   "outputs": [
    {
     "data": {
      "text/html": [
       "<div>\n",
       "<style scoped>\n",
       "    .dataframe tbody tr th:only-of-type {\n",
       "        vertical-align: middle;\n",
       "    }\n",
       "\n",
       "    .dataframe tbody tr th {\n",
       "        vertical-align: top;\n",
       "    }\n",
       "\n",
       "    .dataframe thead th {\n",
       "        text-align: right;\n",
       "    }\n",
       "</style>\n",
       "<table border=\"1\" class=\"dataframe\">\n",
       "  <thead>\n",
       "    <tr style=\"text-align: right;\">\n",
       "      <th></th>\n",
       "      <th>trip_id</th>\n",
       "      <th>arrival_time</th>\n",
       "      <th>departure_time</th>\n",
       "      <th>stop_id</th>\n",
       "      <th>stop_sequence</th>\n",
       "      <th>pickup_type</th>\n",
       "      <th>drop_off_type</th>\n",
       "      <th>shape_dist_traveled</th>\n",
       "      <th>timepoint</th>\n",
       "      <th>route_id</th>\n",
       "      <th>service_id</th>\n",
       "      <th>wheelchair_accessible</th>\n",
       "      <th>bikes_allowed</th>\n",
       "      <th>route_short_name</th>\n",
       "      <th>route_long_name</th>\n",
       "      <th>route_type</th>\n",
       "    </tr>\n",
       "  </thead>\n",
       "  <tbody>\n",
       "    <tr>\n",
       "      <th>0</th>\n",
       "      <td>0</td>\n",
       "      <td>05:28:08</td>\n",
       "      <td>05:28:28</td>\n",
       "      <td>21</td>\n",
       "      <td>0</td>\n",
       "      <td>0</td>\n",
       "      <td>0</td>\n",
       "      <td>0.000</td>\n",
       "      <td>1</td>\n",
       "      <td>0</td>\n",
       "      <td>weekday</td>\n",
       "      <td>0</td>\n",
       "      <td>0</td>\n",
       "      <td>R_RD</td>\n",
       "      <td>RED_Rithala to Dilshad Garden</td>\n",
       "      <td>1</td>\n",
       "    </tr>\n",
       "    <tr>\n",
       "      <th>1</th>\n",
       "      <td>0</td>\n",
       "      <td>05:30:58</td>\n",
       "      <td>05:31:18</td>\n",
       "      <td>20</td>\n",
       "      <td>1</td>\n",
       "      <td>0</td>\n",
       "      <td>0</td>\n",
       "      <td>1202.405</td>\n",
       "      <td>1</td>\n",
       "      <td>0</td>\n",
       "      <td>weekday</td>\n",
       "      <td>0</td>\n",
       "      <td>0</td>\n",
       "      <td>R_RD</td>\n",
       "      <td>RED_Rithala to Dilshad Garden</td>\n",
       "      <td>1</td>\n",
       "    </tr>\n",
       "    <tr>\n",
       "      <th>2</th>\n",
       "      <td>0</td>\n",
       "      <td>05:33:28</td>\n",
       "      <td>05:33:48</td>\n",
       "      <td>19</td>\n",
       "      <td>2</td>\n",
       "      <td>0</td>\n",
       "      <td>0</td>\n",
       "      <td>2480.750</td>\n",
       "      <td>1</td>\n",
       "      <td>0</td>\n",
       "      <td>weekday</td>\n",
       "      <td>0</td>\n",
       "      <td>0</td>\n",
       "      <td>R_RD</td>\n",
       "      <td>RED_Rithala to Dilshad Garden</td>\n",
       "      <td>1</td>\n",
       "    </tr>\n",
       "  </tbody>\n",
       "</table>\n",
       "</div>"
      ],
      "text/plain": [
       "   trip_id arrival_time departure_time  stop_id  stop_sequence  pickup_type  \\\n",
       "0        0     05:28:08       05:28:28       21              0            0   \n",
       "1        0     05:30:58       05:31:18       20              1            0   \n",
       "2        0     05:33:28       05:33:48       19              2            0   \n",
       "\n",
       "   drop_off_type  shape_dist_traveled  timepoint  route_id service_id  \\\n",
       "0              0                0.000          1         0    weekday   \n",
       "1              0             1202.405          1         0    weekday   \n",
       "2              0             2480.750          1         0    weekday   \n",
       "\n",
       "   wheelchair_accessible  bikes_allowed route_short_name  \\\n",
       "0                      0              0             R_RD   \n",
       "1                      0              0             R_RD   \n",
       "2                      0              0             R_RD   \n",
       "\n",
       "                 route_long_name  route_type  \n",
       "0  RED_Rithala to Dilshad Garden           1  \n",
       "1  RED_Rithala to Dilshad Garden           1  \n",
       "2  RED_Rithala to Dilshad Garden           1  "
      ]
     },
     "execution_count": 40,
     "metadata": {},
     "output_type": "execute_result"
    }
   ],
   "source": [
    "stops_with_routes.head(3)"
   ]
  },
  {
   "cell_type": "code",
   "execution_count": 41,
   "id": "f7d53ef6",
   "metadata": {},
   "outputs": [],
   "source": [
    "# count how many unique routes pass through each stop\n",
    "stop_route_counts = stops_with_routes.groupby('stop_id')['route_id'].nunique().reset_index()\n",
    "stop_route_counts = stop_route_counts.rename(columns={'route_id': 'number_of_routes'})"
   ]
  },
  {
   "cell_type": "code",
   "execution_count": 93,
   "id": "2d39e821",
   "metadata": {},
   "outputs": [
    {
     "data": {
      "text/plain": [
       "262"
      ]
     },
     "execution_count": 93,
     "metadata": {},
     "output_type": "execute_result"
    }
   ],
   "source": [
    "stop_route_counts['stop_id'].count()"
   ]
  },
  {
   "cell_type": "code",
   "execution_count": 90,
   "id": "4f0f5bb1",
   "metadata": {},
   "outputs": [
    {
     "data": {
      "text/html": [
       "<div>\n",
       "<style scoped>\n",
       "    .dataframe tbody tr th:only-of-type {\n",
       "        vertical-align: middle;\n",
       "    }\n",
       "\n",
       "    .dataframe tbody tr th {\n",
       "        vertical-align: top;\n",
       "    }\n",
       "\n",
       "    .dataframe thead th {\n",
       "        text-align: right;\n",
       "    }\n",
       "</style>\n",
       "<table border=\"1\" class=\"dataframe\">\n",
       "  <thead>\n",
       "    <tr style=\"text-align: right;\">\n",
       "      <th></th>\n",
       "      <th>stop_id</th>\n",
       "      <th>number_of_routes</th>\n",
       "      <th>stop_name</th>\n",
       "      <th>stop_lat</th>\n",
       "      <th>stop_lon</th>\n",
       "    </tr>\n",
       "  </thead>\n",
       "  <tbody>\n",
       "    <tr>\n",
       "      <th>0</th>\n",
       "      <td>1</td>\n",
       "      <td>4</td>\n",
       "      <td>Dilshad Garden</td>\n",
       "      <td>28.675991</td>\n",
       "      <td>77.321495</td>\n",
       "    </tr>\n",
       "    <tr>\n",
       "      <th>1</th>\n",
       "      <td>2</td>\n",
       "      <td>4</td>\n",
       "      <td>Jhilmil</td>\n",
       "      <td>28.675648</td>\n",
       "      <td>77.312393</td>\n",
       "    </tr>\n",
       "    <tr>\n",
       "      <th>2</th>\n",
       "      <td>3</td>\n",
       "      <td>4</td>\n",
       "      <td>Mansrover park</td>\n",
       "      <td>28.675352</td>\n",
       "      <td>77.301178</td>\n",
       "    </tr>\n",
       "    <tr>\n",
       "      <th>3</th>\n",
       "      <td>4</td>\n",
       "      <td>4</td>\n",
       "      <td>Shahdara</td>\n",
       "      <td>28.673531</td>\n",
       "      <td>77.287270</td>\n",
       "    </tr>\n",
       "    <tr>\n",
       "      <th>4</th>\n",
       "      <td>5</td>\n",
       "      <td>6</td>\n",
       "      <td>Welcome</td>\n",
       "      <td>28.671986</td>\n",
       "      <td>77.277931</td>\n",
       "    </tr>\n",
       "    <tr>\n",
       "      <th>5</th>\n",
       "      <td>6</td>\n",
       "      <td>4</td>\n",
       "      <td>Seelam Pur</td>\n",
       "      <td>28.670324</td>\n",
       "      <td>77.267311</td>\n",
       "    </tr>\n",
       "    <tr>\n",
       "      <th>6</th>\n",
       "      <td>7</td>\n",
       "      <td>4</td>\n",
       "      <td>Shastri Park</td>\n",
       "      <td>28.668451</td>\n",
       "      <td>77.250404</td>\n",
       "    </tr>\n",
       "    <tr>\n",
       "      <th>7</th>\n",
       "      <td>8</td>\n",
       "      <td>12</td>\n",
       "      <td>Kashmere Gate</td>\n",
       "      <td>28.667879</td>\n",
       "      <td>77.228012</td>\n",
       "    </tr>\n",
       "    <tr>\n",
       "      <th>8</th>\n",
       "      <td>9</td>\n",
       "      <td>4</td>\n",
       "      <td>Tis Hazari</td>\n",
       "      <td>28.667137</td>\n",
       "      <td>77.216721</td>\n",
       "    </tr>\n",
       "    <tr>\n",
       "      <th>9</th>\n",
       "      <td>10</td>\n",
       "      <td>4</td>\n",
       "      <td>Pul Bangash</td>\n",
       "      <td>28.665710</td>\n",
       "      <td>77.206329</td>\n",
       "    </tr>\n",
       "  </tbody>\n",
       "</table>\n",
       "</div>"
      ],
      "text/plain": [
       "   stop_id  number_of_routes       stop_name   stop_lat   stop_lon\n",
       "0        1                 4  Dilshad Garden  28.675991  77.321495\n",
       "1        2                 4         Jhilmil  28.675648  77.312393\n",
       "2        3                 4  Mansrover park  28.675352  77.301178\n",
       "3        4                 4        Shahdara  28.673531  77.287270\n",
       "4        5                 6         Welcome  28.671986  77.277931\n",
       "5        6                 4      Seelam Pur  28.670324  77.267311\n",
       "6        7                 4    Shastri Park  28.668451  77.250404\n",
       "7        8                12   Kashmere Gate  28.667879  77.228012\n",
       "8        9                 4      Tis Hazari  28.667137  77.216721\n",
       "9       10                 4     Pul Bangash  28.665710  77.206329"
      ]
     },
     "execution_count": 90,
     "metadata": {},
     "output_type": "execute_result"
    }
   ],
   "source": [
    "stop_route_counts.head(10)"
   ]
  },
  {
   "cell_type": "code",
   "execution_count": 43,
   "id": "61f2c01a",
   "metadata": {},
   "outputs": [],
   "source": [
    "# merge this with stops to get the names and location for plotting.\n",
    "stop_route_counts = pd.merge(stop_route_counts,stops,on='stop_id')"
   ]
  },
  {
   "cell_type": "code",
   "execution_count": 44,
   "id": "b3e9a0e7",
   "metadata": {},
   "outputs": [
    {
     "data": {
      "text/html": [
       "<div>\n",
       "<style scoped>\n",
       "    .dataframe tbody tr th:only-of-type {\n",
       "        vertical-align: middle;\n",
       "    }\n",
       "\n",
       "    .dataframe tbody tr th {\n",
       "        vertical-align: top;\n",
       "    }\n",
       "\n",
       "    .dataframe thead th {\n",
       "        text-align: right;\n",
       "    }\n",
       "</style>\n",
       "<table border=\"1\" class=\"dataframe\">\n",
       "  <thead>\n",
       "    <tr style=\"text-align: right;\">\n",
       "      <th></th>\n",
       "      <th>stop_id</th>\n",
       "      <th>number_of_routes</th>\n",
       "      <th>stop_name</th>\n",
       "      <th>stop_lat</th>\n",
       "      <th>stop_lon</th>\n",
       "    </tr>\n",
       "  </thead>\n",
       "  <tbody>\n",
       "    <tr>\n",
       "      <th>0</th>\n",
       "      <td>1</td>\n",
       "      <td>4</td>\n",
       "      <td>Dilshad Garden</td>\n",
       "      <td>28.675991</td>\n",
       "      <td>77.321495</td>\n",
       "    </tr>\n",
       "    <tr>\n",
       "      <th>1</th>\n",
       "      <td>2</td>\n",
       "      <td>4</td>\n",
       "      <td>Jhilmil</td>\n",
       "      <td>28.675648</td>\n",
       "      <td>77.312393</td>\n",
       "    </tr>\n",
       "  </tbody>\n",
       "</table>\n",
       "</div>"
      ],
      "text/plain": [
       "   stop_id  number_of_routes       stop_name   stop_lat   stop_lon\n",
       "0        1                 4  Dilshad Garden  28.675991  77.321495\n",
       "1        2                 4         Jhilmil  28.675648  77.312393"
      ]
     },
     "execution_count": 44,
     "metadata": {},
     "output_type": "execute_result"
    }
   ],
   "source": [
    "stop_route_counts.head(2)"
   ]
  },
  {
   "cell_type": "code",
   "execution_count": 45,
   "id": "d50eef80",
   "metadata": {},
   "outputs": [
    {
     "data": {
      "image/png": "[encoded data removed]",
      "text/plain": [
       "<Figure size 1000x1000 with 1 Axes>"
      ]
     },
     "metadata": {},
     "output_type": "display_data"
    }
   ],
   "source": [
    "plt.figure(figsize=(10,10))\n",
    "sns.scatterplot(data=stop_route_counts,x='stop_lon',y='stop_lat',hue='number_of_routes',size='number_of_routes',\n",
    "               sizes=(50,500),alpha=0.5,palette='coolwarm')\n",
    "\n",
    "plt.legend(title='Number of Routes')\n",
    "plt.grid(True)\n",
    "plt.xlabel('Longitude')\n",
    "plt.ylabel('Latitude')\n",
    "plt.show()"
   ]
  },
  {
   "cell_type": "markdown",
   "id": "5b34cf20",
   "metadata": {},
   "source": [
    "## Summary of the above Graph \n",
    "\n",
    "The scatter plot above represents the number of routes that pass through each Delhi Metro stop. Stops are visualized in different colours and sizes based on the number of routes they connect, providing insights into the complexity of the network at various locations. Key observations are:\n",
    "\n",
    "Hubs and Transfer Points: Larger circles (in warmer colours) indicate stops where multiple routes intersect. These stops serve as major transfer points within the network, facilitating easier cross-city travel for passengers.\n",
    "\n",
    "Distribution: Stops with fewer routes, shown in cooler colours and smaller sizes, tend to be more peripheral or on less busy lines. The central areas and more populated zones have stops with greater connectivity."
   ]
  },
  {
   "cell_type": "code",
   "execution_count": null,
   "id": "aa61a027",
   "metadata": {},
   "outputs": [],
   "source": []
  },
  {
   "cell_type": "raw",
   "id": "c0fa1467",
   "metadata": {},
   "source": []
  },
  {
   "cell_type": "markdown",
   "id": "f8f01dac",
   "metadata": {},
   "source": [
    "## Now, let’s calculate the number of trips per time interval. It will give us a basic understanding of how service levels vary throughout the day. We’ll classify the intervals as:"
   ]
  },
  {
   "cell_type": "code",
   "execution_count": 46,
   "id": "a085edf0",
   "metadata": {},
   "outputs": [],
   "source": [
    "# Conversion of arrival_time column "
   ]
  },
  {
   "cell_type": "code",
   "execution_count": 47,
   "id": "f77fbcb3",
   "metadata": {},
   "outputs": [],
   "source": [
    "import datetime as dt\n",
    "def time_convert(time):\n",
    "    try:\n",
    "         return dt.datetime.strptime(time, '%H:%M:%S').time()\n",
    "    except ValueError:\n",
    "        # Handle cases where the hour might be greater than 23 (e.g., 24:00:00 or 25:00:00)\n",
    "        hour, minute, second = map(int, time.split(':'))\n",
    "        return dt.time(hour % 24, minute, second)  "
   ]
  },
  {
   "cell_type": "code",
   "execution_count": 48,
   "id": "7a92e0d0",
   "metadata": {},
   "outputs": [],
   "source": [
    "stop_times['arrival_time'] = stop_times['arrival_time'].apply(time_convert)"
   ]
  },
  {
   "cell_type": "code",
   "execution_count": 49,
   "id": "dd32df16",
   "metadata": {},
   "outputs": [],
   "source": [
    "# stop_times.info()"
   ]
  },
  {
   "cell_type": "code",
   "execution_count": 50,
   "id": "70cdbdc8",
   "metadata": {},
   "outputs": [
    {
     "data": {
      "text/html": [
       "<div>\n",
       "<style scoped>\n",
       "    .dataframe tbody tr th:only-of-type {\n",
       "        vertical-align: middle;\n",
       "    }\n",
       "\n",
       "    .dataframe tbody tr th {\n",
       "        vertical-align: top;\n",
       "    }\n",
       "\n",
       "    .dataframe thead th {\n",
       "        text-align: right;\n",
       "    }\n",
       "</style>\n",
       "<table border=\"1\" class=\"dataframe\">\n",
       "  <thead>\n",
       "    <tr style=\"text-align: right;\">\n",
       "      <th></th>\n",
       "      <th>trip_id</th>\n",
       "      <th>arrival_time</th>\n",
       "      <th>departure_time</th>\n",
       "      <th>stop_id</th>\n",
       "      <th>stop_sequence</th>\n",
       "      <th>pickup_type</th>\n",
       "      <th>drop_off_type</th>\n",
       "      <th>shape_dist_traveled</th>\n",
       "      <th>timepoint</th>\n",
       "    </tr>\n",
       "  </thead>\n",
       "  <tbody>\n",
       "    <tr>\n",
       "      <th>0</th>\n",
       "      <td>0</td>\n",
       "      <td>05:28:08</td>\n",
       "      <td>05:28:28</td>\n",
       "      <td>21</td>\n",
       "      <td>0</td>\n",
       "      <td>0</td>\n",
       "      <td>0</td>\n",
       "      <td>0.0</td>\n",
       "      <td>1</td>\n",
       "    </tr>\n",
       "  </tbody>\n",
       "</table>\n",
       "</div>"
      ],
      "text/plain": [
       "   trip_id arrival_time departure_time  stop_id  stop_sequence  pickup_type  \\\n",
       "0        0     05:28:08       05:28:28       21              0            0   \n",
       "\n",
       "   drop_off_type  shape_dist_traveled  timepoint  \n",
       "0              0                  0.0          1  "
      ]
     },
     "execution_count": 50,
     "metadata": {},
     "output_type": "execute_result"
    }
   ],
   "source": [
    "stop_times.head(1)"
   ]
  },
  {
   "cell_type": "code",
   "execution_count": 51,
   "id": "49f0ef27",
   "metadata": {},
   "outputs": [],
   "source": [
    "# stop_times.drop(columns=['time_interval'],inplace=True)"
   ]
  },
  {
   "cell_type": "raw",
   "id": "37724305",
   "metadata": {},
   "source": [
    "# Now Lets get the time interval using arrival_time\n",
    "Early Morning: Before 6 AM\n",
    "Morning Peak: 6 AM to 10 AM\n",
    "Midday: 10 AM to 4 PM\n",
    "Evening Peak: 4 PM to 8 PM\n",
    "Late Evening: After 8 PM"
   ]
  },
  {
   "cell_type": "code",
   "execution_count": 52,
   "id": "c4c6988c",
   "metadata": {},
   "outputs": [],
   "source": [
    "def time_interval(time):\n",
    "    if time < dt.time(6,0):\n",
    "        return 'Early Morning'\n",
    "    elif time < dt.time(10,0):\n",
    "        return 'Morning Peak'\n",
    "    elif time < dt.time(16,0):\n",
    "        return 'Midday'\n",
    "    elif time < dt.time(20,0):\n",
    "        return 'Evening Peak'\n",
    "    else:\n",
    "        return 'Late Evening'   "
   ]
  },
  {
   "cell_type": "code",
   "execution_count": 53,
   "id": "08362a1b",
   "metadata": {},
   "outputs": [],
   "source": [
    "stop_times['time_interval'] = stop_times['arrival_time'].apply(time_interval)"
   ]
  },
  {
   "cell_type": "code",
   "execution_count": 54,
   "id": "039df979",
   "metadata": {},
   "outputs": [
    {
     "data": {
      "text/html": [
       "<div>\n",
       "<style scoped>\n",
       "    .dataframe tbody tr th:only-of-type {\n",
       "        vertical-align: middle;\n",
       "    }\n",
       "\n",
       "    .dataframe tbody tr th {\n",
       "        vertical-align: top;\n",
       "    }\n",
       "\n",
       "    .dataframe thead th {\n",
       "        text-align: right;\n",
       "    }\n",
       "</style>\n",
       "<table border=\"1\" class=\"dataframe\">\n",
       "  <thead>\n",
       "    <tr style=\"text-align: right;\">\n",
       "      <th></th>\n",
       "      <th>trip_id</th>\n",
       "      <th>arrival_time</th>\n",
       "      <th>departure_time</th>\n",
       "      <th>stop_id</th>\n",
       "      <th>stop_sequence</th>\n",
       "      <th>pickup_type</th>\n",
       "      <th>drop_off_type</th>\n",
       "      <th>shape_dist_traveled</th>\n",
       "      <th>timepoint</th>\n",
       "      <th>time_interval</th>\n",
       "    </tr>\n",
       "  </thead>\n",
       "  <tbody>\n",
       "    <tr>\n",
       "      <th>0</th>\n",
       "      <td>0</td>\n",
       "      <td>05:28:08</td>\n",
       "      <td>05:28:28</td>\n",
       "      <td>21</td>\n",
       "      <td>0</td>\n",
       "      <td>0</td>\n",
       "      <td>0</td>\n",
       "      <td>0.0</td>\n",
       "      <td>1</td>\n",
       "      <td>Early Morning</td>\n",
       "    </tr>\n",
       "  </tbody>\n",
       "</table>\n",
       "</div>"
      ],
      "text/plain": [
       "   trip_id arrival_time departure_time  stop_id  stop_sequence  pickup_type  \\\n",
       "0        0     05:28:08       05:28:28       21              0            0   \n",
       "\n",
       "   drop_off_type  shape_dist_traveled  timepoint  time_interval  \n",
       "0              0                  0.0          1  Early Morning  "
      ]
     },
     "execution_count": 54,
     "metadata": {},
     "output_type": "execute_result"
    }
   ],
   "source": [
    "stop_times.head(1)"
   ]
  },
  {
   "cell_type": "code",
   "execution_count": 55,
   "id": "0b30ed91",
   "metadata": {},
   "outputs": [
    {
     "data": {
      "text/html": [
       "<div>\n",
       "<style scoped>\n",
       "    .dataframe tbody tr th:only-of-type {\n",
       "        vertical-align: middle;\n",
       "    }\n",
       "\n",
       "    .dataframe tbody tr th {\n",
       "        vertical-align: top;\n",
       "    }\n",
       "\n",
       "    .dataframe thead th {\n",
       "        text-align: right;\n",
       "    }\n",
       "</style>\n",
       "<table border=\"1\" class=\"dataframe\">\n",
       "  <thead>\n",
       "    <tr style=\"text-align: right;\">\n",
       "      <th></th>\n",
       "      <th>time_interval</th>\n",
       "      <th>no_of_trips</th>\n",
       "    </tr>\n",
       "  </thead>\n",
       "  <tbody>\n",
       "    <tr>\n",
       "      <th>0</th>\n",
       "      <td>Early Morning</td>\n",
       "      <td>200</td>\n",
       "    </tr>\n",
       "    <tr>\n",
       "      <th>4</th>\n",
       "      <td>Morning Peak</td>\n",
       "      <td>1280</td>\n",
       "    </tr>\n",
       "    <tr>\n",
       "      <th>2</th>\n",
       "      <td>Late Evening</td>\n",
       "      <td>1378</td>\n",
       "    </tr>\n",
       "    <tr>\n",
       "      <th>1</th>\n",
       "      <td>Evening Peak</td>\n",
       "      <td>1590</td>\n",
       "    </tr>\n",
       "    <tr>\n",
       "      <th>3</th>\n",
       "      <td>Midday</td>\n",
       "      <td>2152</td>\n",
       "    </tr>\n",
       "  </tbody>\n",
       "</table>\n",
       "</div>"
      ],
      "text/plain": [
       "   time_interval  no_of_trips\n",
       "0  Early Morning          200\n",
       "4   Morning Peak         1280\n",
       "2   Late Evening         1378\n",
       "1   Evening Peak         1590\n",
       "3         Midday         2152"
      ]
     },
     "execution_count": 55,
     "metadata": {},
     "output_type": "execute_result"
    }
   ],
   "source": [
    "# Counting the no_of_trips per time interval\n",
    "trip_interval = stop_times.groupby('time_interval')['trip_id'].nunique().to_frame('no_of_trips').reset_index().sort_values(by='no_of_trips',ascending=True)\n",
    "trip_interval"
   ]
  },
  {
   "cell_type": "code",
   "execution_count": 56,
   "id": "8d627cba",
   "metadata": {},
   "outputs": [
    {
     "name": "stdout",
     "output_type": "stream",
     "text": [
      "<class 'pandas.core.frame.DataFrame'>\n",
      "Index: 5 entries, 0 to 3\n",
      "Data columns (total 2 columns):\n",
      " #   Column         Non-Null Count  Dtype \n",
      "---  ------         --------------  ----- \n",
      " 0   time_interval  5 non-null      object\n",
      " 1   no_of_trips    5 non-null      int64 \n",
      "dtypes: int64(1), object(1)\n",
      "memory usage: 120.0+ bytes\n"
     ]
    }
   ],
   "source": [
    "trip_interval.info()"
   ]
  },
  {
   "cell_type": "code",
   "execution_count": 57,
   "id": "dfb4e35f",
   "metadata": {},
   "outputs": [
    {
     "data": {
      "image/png": "[encoded data removed]",
      "text/plain": [
       "<Figure size 800x500 with 1 Axes>"
      ]
     },
     "metadata": {},
     "output_type": "display_data"
    }
   ],
   "source": [
    "# Plotting of the Above Graph\n",
    "plt.figure(figsize=(8,5))\n",
    "\n",
    "ax = sns.barplot(data=trip_interval,x='time_interval',y='no_of_trips')\n",
    "\n",
    "ax.bar_label(ax.containers[0])\n",
    "plt.xlabel('Time Interval',labelpad=20)\n",
    "plt.ylabel('Number of Trips',labelpad=20)\n",
    "plt.show()"
   ]
  },
  {
   "cell_type": "markdown",
   "id": "ddbba336",
   "metadata": {},
   "source": [
    "## The bar chart displays the number of trips scheduled for each time interval in the Delhi Metro system. From this visualization, we can observe the following: "
   ]
  },
  {
   "cell_type": "raw",
   "id": "ecb80827",
   "metadata": {},
   "source": [
    "Early Morning: There is a relatively low number of trips, indicating less demand or fewer scheduled services during these hours.\n",
    "Morning Peak:  There is a significant increase in the number of trips compared to the early morning, likely due to morning       commute hours as people travel to work or school.\n",
    "Midday: The number of trips remains high, perhaps sustaining the morning rush or due to other midday travel needs.\n",
    "Evening Peak: This period sees a slight decrease compared to midday but remains one of the busier times, probably reflecting the evening commute.\n",
    "Late Evening: The number of trips drops again, but remains higher than in the early morning, likely catering to people returning home late or involved in evening activities."
   ]
  },
  {
   "cell_type": "code",
   "execution_count": null,
   "id": "5c14df0a",
   "metadata": {},
   "outputs": [],
   "source": []
  },
  {
   "cell_type": "markdown",
   "id": "0b6f7f80",
   "metadata": {},
   "source": [
    "# Optimizing Operations to Reduce Overcrowding in Metro"
   ]
  },
  {
   "cell_type": "markdown",
   "id": "b843c543",
   "metadata": {},
   "source": [
    "# Now, as we have analyzed the dataset, let’s build a data-driven strategy to reduce the overcrowding in Delhi Metro. To reduce the overcrowding in the Delhi Metro, we can adjust No of Trains based on time interval analysis."
   ]
  },
  {
   "cell_type": "markdown",
   "id": "87e46047",
   "metadata": {},
   "source": [
    "### We’ve already analyzed the number of trains during different time intervals, which provides a clear picture of the existing supply.adjustments can be made. For instance, if certain time intervals like the morning or evening peaks show signs of overcrowding, increasing the number of trains or adjusting the timing of the trains could help alleviate this issue."
   ]
  },
  {
   "cell_type": "markdown",
   "id": "a9c217e0",
   "metadata": {},
   "source": [
    "### Let's begin by optimizing the number of trains running during peak and off-peak hours based on the trip frequency analysis we conducted earlier. I’ll create a hypothetical scenario where we adjust the frequencies during these times based on assumed passenger loads. An assumption here is that morning and evening peaks need a 20% increase in service, while midday and late evening might handle a 10% reduction without impacting passenger service negatively."
   ]
  },
  {
   "cell_type": "markdown",
   "id": "7ec06cf7",
   "metadata": {},
   "source": [
    "### Let’s calculate and visualize these adjustments:"
   ]
  },
  {
   "cell_type": "code",
   "execution_count": 58,
   "id": "7725cd39",
   "metadata": {},
   "outputs": [],
   "source": [
    "#adjusting frequencies based on hypothetical scenario\n",
    "adjusted_trips_per_interval = trip_interval.copy()"
   ]
  },
  {
   "cell_type": "code",
   "execution_count": 59,
   "id": "0574dfb3",
   "metadata": {},
   "outputs": [
    {
     "data": {
      "text/html": [
       "<div>\n",
       "<style scoped>\n",
       "    .dataframe tbody tr th:only-of-type {\n",
       "        vertical-align: middle;\n",
       "    }\n",
       "\n",
       "    .dataframe tbody tr th {\n",
       "        vertical-align: top;\n",
       "    }\n",
       "\n",
       "    .dataframe thead th {\n",
       "        text-align: right;\n",
       "    }\n",
       "</style>\n",
       "<table border=\"1\" class=\"dataframe\">\n",
       "  <thead>\n",
       "    <tr style=\"text-align: right;\">\n",
       "      <th></th>\n",
       "      <th>time_interval</th>\n",
       "      <th>no_of_trips</th>\n",
       "    </tr>\n",
       "  </thead>\n",
       "  <tbody>\n",
       "    <tr>\n",
       "      <th>0</th>\n",
       "      <td>Early Morning</td>\n",
       "      <td>200</td>\n",
       "    </tr>\n",
       "    <tr>\n",
       "      <th>4</th>\n",
       "      <td>Morning Peak</td>\n",
       "      <td>1280</td>\n",
       "    </tr>\n",
       "    <tr>\n",
       "      <th>2</th>\n",
       "      <td>Late Evening</td>\n",
       "      <td>1378</td>\n",
       "    </tr>\n",
       "    <tr>\n",
       "      <th>1</th>\n",
       "      <td>Evening Peak</td>\n",
       "      <td>1590</td>\n",
       "    </tr>\n",
       "    <tr>\n",
       "      <th>3</th>\n",
       "      <td>Midday</td>\n",
       "      <td>2152</td>\n",
       "    </tr>\n",
       "  </tbody>\n",
       "</table>\n",
       "</div>"
      ],
      "text/plain": [
       "   time_interval  no_of_trips\n",
       "0  Early Morning          200\n",
       "4   Morning Peak         1280\n",
       "2   Late Evening         1378\n",
       "1   Evening Peak         1590\n",
       "3         Midday         2152"
      ]
     },
     "execution_count": 59,
     "metadata": {},
     "output_type": "execute_result"
    }
   ],
   "source": [
    "adjusted_trips_per_interval"
   ]
  },
  {
   "cell_type": "code",
   "execution_count": 60,
   "id": "e5998b34",
   "metadata": {},
   "outputs": [],
   "source": [
    "adjustment_factors = {'Morning Peak': 1.20, 'Evening Peak': 1.20, 'Midday': 0.90, 'Early Morning': 1.0, 'Late Evening': 0.90}\n",
    "# apply the adjustments\n",
    "adjusted_trips_per_interval['adjusted_number_of_trips'] = adjusted_trips_per_interval.apply(\n",
    "    lambda row: int(row['no_of_trips'] * adjustment_factors[row['time_interval']]), axis=1)"
   ]
  },
  {
   "cell_type": "code",
   "execution_count": 61,
   "id": "b3d4f9ed",
   "metadata": {},
   "outputs": [
    {
     "data": {
      "text/html": [
       "<div>\n",
       "<style scoped>\n",
       "    .dataframe tbody tr th:only-of-type {\n",
       "        vertical-align: middle;\n",
       "    }\n",
       "\n",
       "    .dataframe tbody tr th {\n",
       "        vertical-align: top;\n",
       "    }\n",
       "\n",
       "    .dataframe thead th {\n",
       "        text-align: right;\n",
       "    }\n",
       "</style>\n",
       "<table border=\"1\" class=\"dataframe\">\n",
       "  <thead>\n",
       "    <tr style=\"text-align: right;\">\n",
       "      <th></th>\n",
       "      <th>time_interval</th>\n",
       "      <th>no_of_trips</th>\n",
       "      <th>adjusted_number_of_trips</th>\n",
       "    </tr>\n",
       "  </thead>\n",
       "  <tbody>\n",
       "    <tr>\n",
       "      <th>0</th>\n",
       "      <td>Early Morning</td>\n",
       "      <td>200</td>\n",
       "      <td>200</td>\n",
       "    </tr>\n",
       "    <tr>\n",
       "      <th>4</th>\n",
       "      <td>Morning Peak</td>\n",
       "      <td>1280</td>\n",
       "      <td>1536</td>\n",
       "    </tr>\n",
       "    <tr>\n",
       "      <th>2</th>\n",
       "      <td>Late Evening</td>\n",
       "      <td>1378</td>\n",
       "      <td>1240</td>\n",
       "    </tr>\n",
       "    <tr>\n",
       "      <th>1</th>\n",
       "      <td>Evening Peak</td>\n",
       "      <td>1590</td>\n",
       "      <td>1908</td>\n",
       "    </tr>\n",
       "    <tr>\n",
       "      <th>3</th>\n",
       "      <td>Midday</td>\n",
       "      <td>2152</td>\n",
       "      <td>1936</td>\n",
       "    </tr>\n",
       "  </tbody>\n",
       "</table>\n",
       "</div>"
      ],
      "text/plain": [
       "   time_interval  no_of_trips  adjusted_number_of_trips\n",
       "0  Early Morning          200                       200\n",
       "4   Morning Peak         1280                      1536\n",
       "2   Late Evening         1378                      1240\n",
       "1   Evening Peak         1590                      1908\n",
       "3         Midday         2152                      1936"
      ]
     },
     "execution_count": 61,
     "metadata": {},
     "output_type": "execute_result"
    }
   ],
   "source": [
    "adjusted_trips_per_interval"
   ]
  },
  {
   "cell_type": "code",
   "execution_count": 106,
   "id": "9c0f8435",
   "metadata": {},
   "outputs": [
    {
     "data": {
      "image/png": "[encoded data removed]",
      "text/plain": [
       "<Figure size 1000x600 with 1 Axes>"
      ]
     },
     "metadata": {},
     "output_type": "display_data"
    }
   ],
   "source": [
    "plt.figure(figsize=(10, 6))\n",
    "bar_width = 0.35\n",
    "r1 = range(len(adjusted_trips_per_interval))\n",
    "r2 = [x + bar_width for x in r1]\n",
    "\n",
    "plt.bar(r1, adjusted_trips_per_interval['no_of_trips'], color='blue', width=bar_width, edgecolor='grey', label='Original')\n",
    "plt.bar(r2, adjusted_trips_per_interval['adjusted_number_of_trips'], color='cyan', width=bar_width, edgecolor='grey', label='Adjusted')\n",
    "\n",
    "plt.xlabel('Time Interval', fontweight='bold')\n",
    "plt.ylabel('Number of Trips', fontweight='bold')\n",
    "plt.xticks([r + bar_width/2 for r in range(len(adjusted_trips_per_interval))], adjusted_trips_per_interval['time_interval'])\n",
    "plt.title('Original vs Adjusted Number of Trips per Time Interval')\n",
    "plt.legend()\n",
    "\n",
    "plt.show()"
   ]
  },
  {
   "cell_type": "markdown",
   "id": "6ee56acf",
   "metadata": {},
   "source": [
    "### The bar chart shows the initial and modified number of trains per time interval for the Delhi Metro, reflecting our hypothetical adjustments to better match service levels with the estimated demand."
   ]
  },
  {
   "cell_type": "markdown",
   "id": "b1684baa",
   "metadata": {},
   "source": [
    "### Morning and Evening Peaks: We increased the number of trips by 20%, anticipating higher demand during these hours. This adjustment aims to reduce overcrowding and improve passenger comfort and service reliability"
   ]
  },
  {
   "cell_type": "markdown",
   "id": "a7fead7d",
   "metadata": {},
   "source": [
    "### Midday and Late Evening: We decreased the trips by 10%, assuming that the demand drops during these times, allowing for more efficient use of resources without significantly impacting service quality."
   ]
  },
  {
   "cell_type": "markdown",
   "id": "5d209a60",
   "metadata": {},
   "source": [
    "### By implementing these adjustments, Delhi Metro can potentially improve operational efficiency and customer satisfaction, especially during peak hours."
   ]
  },
  {
   "cell_type": "code",
   "execution_count": null,
   "id": "87cdcf69",
   "metadata": {},
   "outputs": [],
   "source": []
  },
  {
   "cell_type": "code",
   "execution_count": null,
   "id": "4a28c27b",
   "metadata": {},
   "outputs": [],
   "source": []
  },
  {
   "cell_type": "code",
   "execution_count": null,
   "id": "6e3382a6",
   "metadata": {},
   "outputs": [],
   "source": []
  }
 ],
 "metadata": {
  "kernelspec": {
   "display_name": "Python 3 (ipykernel)",
   "language": "python",
   "name": "python3"
  },
  "language_info": {
   "codemirror_mode": {
    "name": "ipython",
    "version": 3
   },
   "file_extension": ".py",
   "mimetype": "text/x-python",
   "name": "python",
   "nbconvert_exporter": "python",
   "pygments_lexer": "ipython3",
   "version": "3.11.5"
  }
 },
 "nbformat": 4,
 "nbformat_minor": 5
}
